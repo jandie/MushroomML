{
 "cells": [
  {
   "cell_type": "markdown",
   "metadata": {
    "collapsed": true
   },
   "source": [
    "# Classification of Mushrooms\n",
    "Safe to eat or deadly poison?"
   ]
  },
  {
   "cell_type": "markdown",
   "metadata": {},
   "source": [
    "## Dataset and research question"
   ]
  },
  {
   "cell_type": "markdown",
   "metadata": {},
   "source": [
    "With this dataset I would like to be able to make a model that can predict whether or not a mushroom is safe to eat. This should be determined using as little features as possible. Because this dataset has 22 features I would also like to find out if features are unnecessary. \n",
    "\n",
    "Research question: Which features are needed to determine wheater or not a mushroom is safe to eat?\n",
    "\n",
    "To be able to achieve this, all features need to be converted to numerical values. Then I would like to find out which features are less relevant. After that I want to try out different machine learning algorithms and find out which one is best fitted for the job.\n",
    "\n",
    "Prediction: I expect that with this dataset a model could be made that can predict whether or not a mushroom is safe to eat with high accuracy."
   ]
  },
  {
   "cell_type": "markdown",
   "metadata": {},
   "source": [
    "## Dataset description"
   ]
  },
  {
   "cell_type": "markdown",
   "metadata": {},
   "source": [
    "Dataset name: Mushroom classification\n",
    "\n",
    "Url: https://www.kaggle.com/uciml/mushroom-classification\n",
    "\n",
    "Domain of the dataset: food/ nature\n",
    "\n",
    "Attribute Information: (classes: edible=e, poisonous=p)\n",
    "\n",
    "- cap-shape: bell=b,conical=c,convex=x,flat=f, knobbed=k,sunken=s\n",
    "\n",
    "- cap-surface: fibrous=f,grooves=g,scaly=y,smooth=s \n",
    "\n",
    "- cap-color: brown=n,buff=b,cinnamon=c,gray=g,green=r,pink=p,purple=u,red=e,white=w,yellow=y\n",
    "\n",
    "- bruises: bruises=t,no=f\n",
    "\n",
    "- odor: almond=a,anise=l,creosote=c,fishy=y,foul=f,musty=m,none=n,pungent=p,spicy=s\n",
    "\n",
    "- gill-attachment: attached=a,descending=d,free=f,notched=n\n",
    "\n",
    "- gill-spacing: close=c,crowded=w,distant=d\n",
    "\n",
    "- gill-size: broad=b,narrow=n\n",
    "\n",
    "- gill-color: black=k,brown=n,buff=b,chocolate=h,gray=g, green=r,orange=o,pink=p,purple=u,red=e,white=w,yellow=y\n",
    "\n",
    "- stalk-shape: enlarging=e,tapering=t\n",
    "\n",
    "- stalk-root: bulbous=b,club=c,cup=u,equal=e,rhizomorphs=z,rooted=r,missing=?\n",
    "\n",
    "- stalk-surface-above-ring: fibrous=f,scaly=y,silky=k,smooth=s\n",
    "\n",
    "- stalk-surface-below-ring: fibrous=f,scaly=y,silky=k,smooth=s\n",
    "\n",
    "- stalk-color-above-ring: brown=n,buff=b,cinnamon=c,gray=g,orange=o,pink=p,red=e,white=w,yellow=y\n",
    "\n",
    "- stalk-color-below-ring: brown=n,buff=b,cinnamon=c,gray=g,orange=o,pink=p,red=e,white=w,yellow=y\n",
    "\n",
    "- veil-type: partial=p,universal=u\n",
    "\n",
    "- veil-color: brown=n,orange=o,white=w,yellow=y\n",
    "\n",
    "- ring-number: none=n,one=o,two=t\n",
    "\n",
    "- ring-type: cobwebby=c,evanescent=e,flaring=f,large=l,none=n,pendant=p,sheathing=s,zone=z\n",
    "\n",
    "- spore-print-color: black=k,brown=n,buff=b,chocolate=h,green=r,orange=o,purple=u,white=w,yellow=y\n",
    "\n",
    "- population: abundant=a,clustered=c,numerous=n,scattered=s,several=v,solitary=y\n",
    "\n",
    "- habitat: grasses=g,leaves=l,meadows=m,paths=p,urban=u,waste=w,woods=d\n",
    "    \n",
    "At first glance the data does not have to be cleaned, but I will investigate this further using the pandas library. Only thing that I expect to need to do is to convert all values to numerical ones.\n"
   ]
  },
  {
   "cell_type": "markdown",
   "metadata": {},
   "source": [
    "### Used information\n",
    "\n",
    "- https://www.geeksforgeeks.org/confusion-matrix-machine-learning/\n",
    "- https://scikit-learn.org/stable/modules/feature_selection.html\n",
    "- https://scikit-learn.org/stable/modules/generated/sklearn.metrics.accuracy_score.html"
   ]
  },
  {
   "cell_type": "markdown",
   "metadata": {},
   "source": [
    "## Importing the data"
   ]
  },
  {
   "cell_type": "markdown",
   "metadata": {},
   "source": [
    "The file that was downloaded from Kaggle was a comma separated csv file. This means that using the default read_csv method from pandas will we enough to load the data into memory."
   ]
  },
  {
   "cell_type": "code",
   "execution_count": 55,
   "metadata": {},
   "outputs": [],
   "source": [
    "import pandas as pd\n",
    "import warnings\n",
    "warnings.filterwarnings(\"ignore\")\n",
    "\n",
    "mush = pd.read_csv('mushrooms.csv')"
   ]
  },
  {
   "cell_type": "code",
   "execution_count": 56,
   "metadata": {
    "scrolled": true
   },
   "outputs": [
    {
     "data": {
      "text/html": [
       "<div>\n",
       "<style scoped>\n",
       "    .dataframe tbody tr th:only-of-type {\n",
       "        vertical-align: middle;\n",
       "    }\n",
       "\n",
       "    .dataframe tbody tr th {\n",
       "        vertical-align: top;\n",
       "    }\n",
       "\n",
       "    .dataframe thead th {\n",
       "        text-align: right;\n",
       "    }\n",
       "</style>\n",
       "<table border=\"1\" class=\"dataframe\">\n",
       "  <thead>\n",
       "    <tr style=\"text-align: right;\">\n",
       "      <th></th>\n",
       "      <th>class</th>\n",
       "      <th>cap-shape</th>\n",
       "      <th>cap-surface</th>\n",
       "      <th>cap-color</th>\n",
       "      <th>bruises</th>\n",
       "      <th>odor</th>\n",
       "      <th>gill-attachment</th>\n",
       "      <th>gill-spacing</th>\n",
       "      <th>gill-size</th>\n",
       "      <th>gill-color</th>\n",
       "      <th>...</th>\n",
       "      <th>stalk-surface-below-ring</th>\n",
       "      <th>stalk-color-above-ring</th>\n",
       "      <th>stalk-color-below-ring</th>\n",
       "      <th>veil-type</th>\n",
       "      <th>veil-color</th>\n",
       "      <th>ring-number</th>\n",
       "      <th>ring-type</th>\n",
       "      <th>spore-print-color</th>\n",
       "      <th>population</th>\n",
       "      <th>habitat</th>\n",
       "    </tr>\n",
       "  </thead>\n",
       "  <tbody>\n",
       "    <tr>\n",
       "      <th>0</th>\n",
       "      <td>p</td>\n",
       "      <td>x</td>\n",
       "      <td>s</td>\n",
       "      <td>n</td>\n",
       "      <td>t</td>\n",
       "      <td>p</td>\n",
       "      <td>f</td>\n",
       "      <td>c</td>\n",
       "      <td>n</td>\n",
       "      <td>k</td>\n",
       "      <td>...</td>\n",
       "      <td>s</td>\n",
       "      <td>w</td>\n",
       "      <td>w</td>\n",
       "      <td>p</td>\n",
       "      <td>w</td>\n",
       "      <td>o</td>\n",
       "      <td>p</td>\n",
       "      <td>k</td>\n",
       "      <td>s</td>\n",
       "      <td>u</td>\n",
       "    </tr>\n",
       "    <tr>\n",
       "      <th>1</th>\n",
       "      <td>e</td>\n",
       "      <td>x</td>\n",
       "      <td>s</td>\n",
       "      <td>y</td>\n",
       "      <td>t</td>\n",
       "      <td>a</td>\n",
       "      <td>f</td>\n",
       "      <td>c</td>\n",
       "      <td>b</td>\n",
       "      <td>k</td>\n",
       "      <td>...</td>\n",
       "      <td>s</td>\n",
       "      <td>w</td>\n",
       "      <td>w</td>\n",
       "      <td>p</td>\n",
       "      <td>w</td>\n",
       "      <td>o</td>\n",
       "      <td>p</td>\n",
       "      <td>n</td>\n",
       "      <td>n</td>\n",
       "      <td>g</td>\n",
       "    </tr>\n",
       "    <tr>\n",
       "      <th>2</th>\n",
       "      <td>e</td>\n",
       "      <td>b</td>\n",
       "      <td>s</td>\n",
       "      <td>w</td>\n",
       "      <td>t</td>\n",
       "      <td>l</td>\n",
       "      <td>f</td>\n",
       "      <td>c</td>\n",
       "      <td>b</td>\n",
       "      <td>n</td>\n",
       "      <td>...</td>\n",
       "      <td>s</td>\n",
       "      <td>w</td>\n",
       "      <td>w</td>\n",
       "      <td>p</td>\n",
       "      <td>w</td>\n",
       "      <td>o</td>\n",
       "      <td>p</td>\n",
       "      <td>n</td>\n",
       "      <td>n</td>\n",
       "      <td>m</td>\n",
       "    </tr>\n",
       "    <tr>\n",
       "      <th>3</th>\n",
       "      <td>p</td>\n",
       "      <td>x</td>\n",
       "      <td>y</td>\n",
       "      <td>w</td>\n",
       "      <td>t</td>\n",
       "      <td>p</td>\n",
       "      <td>f</td>\n",
       "      <td>c</td>\n",
       "      <td>n</td>\n",
       "      <td>n</td>\n",
       "      <td>...</td>\n",
       "      <td>s</td>\n",
       "      <td>w</td>\n",
       "      <td>w</td>\n",
       "      <td>p</td>\n",
       "      <td>w</td>\n",
       "      <td>o</td>\n",
       "      <td>p</td>\n",
       "      <td>k</td>\n",
       "      <td>s</td>\n",
       "      <td>u</td>\n",
       "    </tr>\n",
       "    <tr>\n",
       "      <th>4</th>\n",
       "      <td>e</td>\n",
       "      <td>x</td>\n",
       "      <td>s</td>\n",
       "      <td>g</td>\n",
       "      <td>f</td>\n",
       "      <td>n</td>\n",
       "      <td>f</td>\n",
       "      <td>w</td>\n",
       "      <td>b</td>\n",
       "      <td>k</td>\n",
       "      <td>...</td>\n",
       "      <td>s</td>\n",
       "      <td>w</td>\n",
       "      <td>w</td>\n",
       "      <td>p</td>\n",
       "      <td>w</td>\n",
       "      <td>o</td>\n",
       "      <td>e</td>\n",
       "      <td>n</td>\n",
       "      <td>a</td>\n",
       "      <td>g</td>\n",
       "    </tr>\n",
       "  </tbody>\n",
       "</table>\n",
       "<p>5 rows × 23 columns</p>\n",
       "</div>"
      ],
      "text/plain": [
       "  class cap-shape cap-surface cap-color bruises odor gill-attachment  \\\n",
       "0     p         x           s         n       t    p               f   \n",
       "1     e         x           s         y       t    a               f   \n",
       "2     e         b           s         w       t    l               f   \n",
       "3     p         x           y         w       t    p               f   \n",
       "4     e         x           s         g       f    n               f   \n",
       "\n",
       "  gill-spacing gill-size gill-color   ...   stalk-surface-below-ring  \\\n",
       "0            c         n          k   ...                          s   \n",
       "1            c         b          k   ...                          s   \n",
       "2            c         b          n   ...                          s   \n",
       "3            c         n          n   ...                          s   \n",
       "4            w         b          k   ...                          s   \n",
       "\n",
       "  stalk-color-above-ring stalk-color-below-ring veil-type veil-color  \\\n",
       "0                      w                      w         p          w   \n",
       "1                      w                      w         p          w   \n",
       "2                      w                      w         p          w   \n",
       "3                      w                      w         p          w   \n",
       "4                      w                      w         p          w   \n",
       "\n",
       "  ring-number ring-type spore-print-color population habitat  \n",
       "0           o         p                 k          s       u  \n",
       "1           o         p                 n          n       g  \n",
       "2           o         p                 n          n       m  \n",
       "3           o         p                 k          s       u  \n",
       "4           o         e                 n          a       g  \n",
       "\n",
       "[5 rows x 23 columns]"
      ]
     },
     "execution_count": 56,
     "metadata": {},
     "output_type": "execute_result"
    }
   ],
   "source": [
    "mush.head()"
   ]
  },
  {
   "cell_type": "markdown",
   "metadata": {},
   "source": [
    "## Cleaning the data"
   ]
  },
  {
   "cell_type": "markdown",
   "metadata": {},
   "source": [
    "Looking at the data that was retrieved from Kaggle a few things need to be done before it's ready to be worked with. Since all the values is the dataset are letters these need to be changed to numerical values. The letters will be converted to their unicode point and the classes to a 0 or 1 dependig wheter or not a mushroom is edible. Edible will be marked as 1 (positive) and poisonous will be marked as 0 (negative). After that the values in the dataframe will be changed to numerical ones as they otherwise will stay as an object, which would give errors when visualizing and training."
   ]
  },
  {
   "cell_type": "code",
   "execution_count": 57,
   "metadata": {},
   "outputs": [],
   "source": [
    "for c in mush.columns: \n",
    "    mush[c] = [ord(x) for x in mush[c]]\n",
    "    mush[c] = pd.to_numeric(mush[c])\n",
    "\n",
    "class_dict = {112:0, 101:1}\n",
    "mush = mush.replace({\"class\": class_dict})"
   ]
  },
  {
   "cell_type": "code",
   "execution_count": 58,
   "metadata": {},
   "outputs": [
    {
     "data": {
      "text/html": [
       "<div>\n",
       "<style scoped>\n",
       "    .dataframe tbody tr th:only-of-type {\n",
       "        vertical-align: middle;\n",
       "    }\n",
       "\n",
       "    .dataframe tbody tr th {\n",
       "        vertical-align: top;\n",
       "    }\n",
       "\n",
       "    .dataframe thead th {\n",
       "        text-align: right;\n",
       "    }\n",
       "</style>\n",
       "<table border=\"1\" class=\"dataframe\">\n",
       "  <thead>\n",
       "    <tr style=\"text-align: right;\">\n",
       "      <th></th>\n",
       "      <th>class</th>\n",
       "      <th>cap-shape</th>\n",
       "      <th>cap-surface</th>\n",
       "      <th>cap-color</th>\n",
       "      <th>bruises</th>\n",
       "      <th>odor</th>\n",
       "      <th>gill-attachment</th>\n",
       "      <th>gill-spacing</th>\n",
       "      <th>gill-size</th>\n",
       "      <th>gill-color</th>\n",
       "      <th>...</th>\n",
       "      <th>stalk-surface-below-ring</th>\n",
       "      <th>stalk-color-above-ring</th>\n",
       "      <th>stalk-color-below-ring</th>\n",
       "      <th>veil-type</th>\n",
       "      <th>veil-color</th>\n",
       "      <th>ring-number</th>\n",
       "      <th>ring-type</th>\n",
       "      <th>spore-print-color</th>\n",
       "      <th>population</th>\n",
       "      <th>habitat</th>\n",
       "    </tr>\n",
       "  </thead>\n",
       "  <tbody>\n",
       "    <tr>\n",
       "      <th>0</th>\n",
       "      <td>0</td>\n",
       "      <td>120</td>\n",
       "      <td>115</td>\n",
       "      <td>110</td>\n",
       "      <td>116</td>\n",
       "      <td>112</td>\n",
       "      <td>102</td>\n",
       "      <td>99</td>\n",
       "      <td>110</td>\n",
       "      <td>107</td>\n",
       "      <td>...</td>\n",
       "      <td>115</td>\n",
       "      <td>119</td>\n",
       "      <td>119</td>\n",
       "      <td>112</td>\n",
       "      <td>119</td>\n",
       "      <td>111</td>\n",
       "      <td>112</td>\n",
       "      <td>107</td>\n",
       "      <td>115</td>\n",
       "      <td>117</td>\n",
       "    </tr>\n",
       "    <tr>\n",
       "      <th>1</th>\n",
       "      <td>1</td>\n",
       "      <td>120</td>\n",
       "      <td>115</td>\n",
       "      <td>121</td>\n",
       "      <td>116</td>\n",
       "      <td>97</td>\n",
       "      <td>102</td>\n",
       "      <td>99</td>\n",
       "      <td>98</td>\n",
       "      <td>107</td>\n",
       "      <td>...</td>\n",
       "      <td>115</td>\n",
       "      <td>119</td>\n",
       "      <td>119</td>\n",
       "      <td>112</td>\n",
       "      <td>119</td>\n",
       "      <td>111</td>\n",
       "      <td>112</td>\n",
       "      <td>110</td>\n",
       "      <td>110</td>\n",
       "      <td>103</td>\n",
       "    </tr>\n",
       "    <tr>\n",
       "      <th>2</th>\n",
       "      <td>1</td>\n",
       "      <td>98</td>\n",
       "      <td>115</td>\n",
       "      <td>119</td>\n",
       "      <td>116</td>\n",
       "      <td>108</td>\n",
       "      <td>102</td>\n",
       "      <td>99</td>\n",
       "      <td>98</td>\n",
       "      <td>110</td>\n",
       "      <td>...</td>\n",
       "      <td>115</td>\n",
       "      <td>119</td>\n",
       "      <td>119</td>\n",
       "      <td>112</td>\n",
       "      <td>119</td>\n",
       "      <td>111</td>\n",
       "      <td>112</td>\n",
       "      <td>110</td>\n",
       "      <td>110</td>\n",
       "      <td>109</td>\n",
       "    </tr>\n",
       "    <tr>\n",
       "      <th>3</th>\n",
       "      <td>0</td>\n",
       "      <td>120</td>\n",
       "      <td>121</td>\n",
       "      <td>119</td>\n",
       "      <td>116</td>\n",
       "      <td>112</td>\n",
       "      <td>102</td>\n",
       "      <td>99</td>\n",
       "      <td>110</td>\n",
       "      <td>110</td>\n",
       "      <td>...</td>\n",
       "      <td>115</td>\n",
       "      <td>119</td>\n",
       "      <td>119</td>\n",
       "      <td>112</td>\n",
       "      <td>119</td>\n",
       "      <td>111</td>\n",
       "      <td>112</td>\n",
       "      <td>107</td>\n",
       "      <td>115</td>\n",
       "      <td>117</td>\n",
       "    </tr>\n",
       "    <tr>\n",
       "      <th>4</th>\n",
       "      <td>1</td>\n",
       "      <td>120</td>\n",
       "      <td>115</td>\n",
       "      <td>103</td>\n",
       "      <td>102</td>\n",
       "      <td>110</td>\n",
       "      <td>102</td>\n",
       "      <td>119</td>\n",
       "      <td>98</td>\n",
       "      <td>107</td>\n",
       "      <td>...</td>\n",
       "      <td>115</td>\n",
       "      <td>119</td>\n",
       "      <td>119</td>\n",
       "      <td>112</td>\n",
       "      <td>119</td>\n",
       "      <td>111</td>\n",
       "      <td>101</td>\n",
       "      <td>110</td>\n",
       "      <td>97</td>\n",
       "      <td>103</td>\n",
       "    </tr>\n",
       "  </tbody>\n",
       "</table>\n",
       "<p>5 rows × 23 columns</p>\n",
       "</div>"
      ],
      "text/plain": [
       "   class  cap-shape  cap-surface  cap-color  bruises  odor  gill-attachment  \\\n",
       "0      0        120          115        110      116   112              102   \n",
       "1      1        120          115        121      116    97              102   \n",
       "2      1         98          115        119      116   108              102   \n",
       "3      0        120          121        119      116   112              102   \n",
       "4      1        120          115        103      102   110              102   \n",
       "\n",
       "   gill-spacing  gill-size  gill-color   ...     stalk-surface-below-ring  \\\n",
       "0            99        110         107   ...                          115   \n",
       "1            99         98         107   ...                          115   \n",
       "2            99         98         110   ...                          115   \n",
       "3            99        110         110   ...                          115   \n",
       "4           119         98         107   ...                          115   \n",
       "\n",
       "   stalk-color-above-ring  stalk-color-below-ring  veil-type  veil-color  \\\n",
       "0                     119                     119        112         119   \n",
       "1                     119                     119        112         119   \n",
       "2                     119                     119        112         119   \n",
       "3                     119                     119        112         119   \n",
       "4                     119                     119        112         119   \n",
       "\n",
       "   ring-number  ring-type  spore-print-color  population  habitat  \n",
       "0          111        112                107         115      117  \n",
       "1          111        112                110         110      103  \n",
       "2          111        112                110         110      109  \n",
       "3          111        112                107         115      117  \n",
       "4          111        101                110          97      103  \n",
       "\n",
       "[5 rows x 23 columns]"
      ]
     },
     "execution_count": 58,
     "metadata": {},
     "output_type": "execute_result"
    }
   ],
   "source": [
    "mush.head()"
   ]
  },
  {
   "cell_type": "markdown",
   "metadata": {},
   "source": [
    "All the data is now clean. Now the dataset will be split in two parts. One part will contain the classes and the other part will contain the features. This is necessary to be able to use the data for machine learning."
   ]
  },
  {
   "cell_type": "code",
   "execution_count": 59,
   "metadata": {},
   "outputs": [],
   "source": [
    "X = mush.loc[:, mush.columns != 'class']\n",
    "y = mush['class']"
   ]
  },
  {
   "cell_type": "markdown",
   "metadata": {},
   "source": [
    "## Exploration of the data"
   ]
  },
  {
   "cell_type": "code",
   "execution_count": 60,
   "metadata": {},
   "outputs": [
    {
     "data": {
      "text/plain": [
       "array([[<matplotlib.axes._subplots.AxesSubplot object at 0x000002209820CD30>,\n",
       "        <matplotlib.axes._subplots.AxesSubplot object at 0x0000022098250048>,\n",
       "        <matplotlib.axes._subplots.AxesSubplot object at 0x00000220982775C0>,\n",
       "        <matplotlib.axes._subplots.AxesSubplot object at 0x000002209829AB38>,\n",
       "        <matplotlib.axes._subplots.AxesSubplot object at 0x00000220982CD0B8>],\n",
       "       [<matplotlib.axes._subplots.AxesSubplot object at 0x00000220982F2630>,\n",
       "        <matplotlib.axes._subplots.AxesSubplot object at 0x000002209831ABA8>,\n",
       "        <matplotlib.axes._subplots.AxesSubplot object at 0x000002209834C198>,\n",
       "        <matplotlib.axes._subplots.AxesSubplot object at 0x000002209834C1D0>,\n",
       "        <matplotlib.axes._subplots.AxesSubplot object at 0x000002209880DC50>],\n",
       "       [<matplotlib.axes._subplots.AxesSubplot object at 0x000002209883C208>,\n",
       "        <matplotlib.axes._subplots.AxesSubplot object at 0x0000022098863780>,\n",
       "        <matplotlib.axes._subplots.AxesSubplot object at 0x000002209888BCF8>,\n",
       "        <matplotlib.axes._subplots.AxesSubplot object at 0x00000220988BD2B0>,\n",
       "        <matplotlib.axes._subplots.AxesSubplot object at 0x00000220988E1828>],\n",
       "       [<matplotlib.axes._subplots.AxesSubplot object at 0x000002209907BDA0>,\n",
       "        <matplotlib.axes._subplots.AxesSubplot object at 0x00000220990AA358>,\n",
       "        <matplotlib.axes._subplots.AxesSubplot object at 0x00000220990D08D0>,\n",
       "        <matplotlib.axes._subplots.AxesSubplot object at 0x00000220990FAE48>,\n",
       "        <matplotlib.axes._subplots.AxesSubplot object at 0x000002209912A400>],\n",
       "       [<matplotlib.axes._subplots.AxesSubplot object at 0x0000022099152978>,\n",
       "        <matplotlib.axes._subplots.AxesSubplot object at 0x0000022099179EF0>,\n",
       "        <matplotlib.axes._subplots.AxesSubplot object at 0x00000220991A94A8>,\n",
       "        <matplotlib.axes._subplots.AxesSubplot object at 0x00000220991D2A20>,\n",
       "        <matplotlib.axes._subplots.AxesSubplot object at 0x00000220991F8F98>]],\n",
       "      dtype=object)"
      ]
     },
     "execution_count": 60,
     "metadata": {},
     "output_type": "execute_result"
    },
    {
     "data": {
      "image/png": "[encoded data removed]",
      "text/plain": [
       "<Figure size 1440x1440 with 25 Axes>"
      ]
     },
     "metadata": {
      "needs_background": "light"
     },
     "output_type": "display_data"
    }
   ],
   "source": [
    "import numpy as np\n",
    "from matplotlib import pyplot as plt\n",
    "%matplotlib inline\n",
    "\n",
    "# mush['odor'].plot.hist()\n",
    "mush.hist(figsize=(20,20))"
   ]
  },
  {
   "cell_type": "markdown",
   "metadata": {},
   "source": [
    "In de above graph histograms of all features and the class are plotted. Looking at a few histograms like veil-color, veil-type and ring-number the conclusion can be made that they are unbalanced. Meaning that I expect that they will not tell alot about wether or not a mushroom is edible. Because by far the most mushrooms edible or not are in te same category of these specific features."
   ]
  },
  {
   "cell_type": "markdown",
   "metadata": {},
   "source": [
    "## Best features\n",
    "\n",
    "Because I would like to find out if a mushroom is edible base on as little features as possible, the first logical step would be to find a way to find the best features given a feature amount. After looking for a way to do this with sklearn I found the SelectKBest algorithm that does exactly what I was looking for. "
   ]
  },
  {
   "cell_type": "code",
   "execution_count": 61,
   "metadata": {},
   "outputs": [
    {
     "name": "stdout",
     "output_type": "stream",
     "text": [
      "['cap-surface', 'bruises', 'gill-spacing', 'gill-size', 'gill-color', 'stalk-root', 'stalk-surface-above-ring', 'stalk-surface-below-ring', 'ring-type', 'population']\n"
     ]
    }
   ],
   "source": [
    "from sklearn.feature_selection import SelectKBest\n",
    "from sklearn.feature_selection import chi2\n",
    "\n",
    "k_best = SelectKBest(chi2, k=10)\n",
    "X_new = k_best.fit_transform(X, y)\n",
    "X_new.shape\n",
    "mask = k_best.get_support() #list of booleans\n",
    "new_features = [] # The list of your K best features\n",
    "\n",
    "for bool, feature in zip(mask, list(X)):\n",
    "    if bool:\n",
    "        new_features.append(feature)\n",
    "        \n",
    "print(new_features)"
   ]
  },
  {
   "cell_type": "markdown",
   "metadata": {},
   "source": [
    "The script above is the way to use the SelectKBest algorithm to find out what the best features are. An example is given where the best 10 features are shown, these are printed above. According to the SelectKBest algorithm these are the best 10 features that correlate the most with the two classes of the dataset (edible and poisonous)"
   ]
  },
  {
   "cell_type": "markdown",
   "metadata": {},
   "source": [
    "## Plotly setup\n",
    "\n",
    "To be able to use plotly to plot graphs some initiation code is needed. This initiation code is made in this section below."
   ]
  },
  {
   "cell_type": "code",
   "execution_count": 62,
   "metadata": {},
   "outputs": [
    {
     "data": {
      "text/html": [
       "<script type=\"text/javascript\">window.PlotlyConfig = {MathJaxConfig: 'local'};</script><script type=\"text/javascript\">if (window.MathJax) {MathJax.Hub.Config({SVG: {font: \"STIX-Web\"}});}</script><script>requirejs.config({paths: { 'plotly': ['https://cdn.plot.ly/plotly-latest.min']},});if(!window._Plotly) {require(['plotly'],function(plotly) {window._Plotly=plotly;});}</script>"
      ],
      "text/vnd.plotly.v1+html": [
       "<script type=\"text/javascript\">window.PlotlyConfig = {MathJaxConfig: 'local'};</script><script type=\"text/javascript\">if (window.MathJax) {MathJax.Hub.Config({SVG: {font: \"STIX-Web\"}});}</script><script>requirejs.config({paths: { 'plotly': ['https://cdn.plot.ly/plotly-latest.min']},});if(!window._Plotly) {require(['plotly'],function(plotly) {window._Plotly=plotly;});}</script>"
      ]
     },
     "metadata": {},
     "output_type": "display_data"
    }
   ],
   "source": [
    "from plotly import __version__\n",
    "from plotly.offline import download_plotlyjs, init_notebook_mode, plot, iplot\n",
    "\n",
    "init_notebook_mode(connected=True)"
   ]
  },
  {
   "cell_type": "markdown",
   "metadata": {},
   "source": [
    "## Machine learning\n",
    "\n",
    "In this section first all scripts and methods are made to be able to use the machine learning algorithms more easily. The exact function of a method will be discussed above each method.\n",
    "\n",
    "After all the facilitation script the real machine learning algorithms are discussed."
   ]
  },
  {
   "cell_type": "code",
   "execution_count": 63,
   "metadata": {},
   "outputs": [],
   "source": [
    "import plotly.graph_objs as go\n",
    "\n",
    "# Converts accoracy, recall and precision arrays to a figure that can be plotted using plotly.\n",
    "def make_plot_data(amount_features, accuracy, recall, precision):\n",
    "    data = [\n",
    "        go.Scatter(x = amount_features, y = accuracy, name='accuracy'),\n",
    "        go.Scatter(x = amount_features, y = recall, name='recall'),\n",
    "        go.Scatter(x = amount_features, y = precision, name='precision')\n",
    "    ]\n",
    "    layout = go.Layout(\n",
    "        yaxis=dict(\n",
    "            rangemode='tozero',\n",
    "            autorange=True\n",
    "        )\n",
    "    )\n",
    "    \n",
    "    return go.Figure(data=data, layout=layout)"
   ]
  },
  {
   "cell_type": "code",
   "execution_count": 64,
   "metadata": {},
   "outputs": [],
   "source": [
    "from sklearn.feature_selection import SelectKBest\n",
    "from sklearn.feature_selection import chi2\n",
    "import numpy as np\n",
    "from sklearn.model_selection import train_test_split\n",
    "from sklearn.metrics import accuracy_score, recall_score, precision_score\n",
    "from sklearn import preprocessing\n",
    "from sklearn.model_selection import KFold\n",
    "from sklearn.model_selection import cross_val_score\n",
    "\n",
    "\n",
    "# Goes through different amount of features until the given maximum is reached. \n",
    "# After deciding the metrics of the trained model these metrics are added to an array,\n",
    "# then they are converted to a plotly figure to be able to make a graph.\n",
    "def test_different_features(max_features, clf, X, y, scale=True, clustering=False, flip_labels=False):\n",
    "    amount_features, accuracy, recall, precision = [], [], [], []\n",
    "    \n",
    "    for i in range(0, max_features):\n",
    "        am, ac, rc, pc = test_amount_features(i + 1, clf, X, y, scale, clustering, flip_labels)\n",
    "        \n",
    "        amount_features.append(am)\n",
    "        accuracy.append(ac)\n",
    "        recall.append(rc)\n",
    "        precision.append(pc)\n",
    "        \n",
    "    return make_plot_data(amount_features, accuracy, recall, precision)"
   ]
  },
  {
   "cell_type": "code",
   "execution_count": 65,
   "metadata": {},
   "outputs": [],
   "source": [
    "# Trains a classifier with the best features based on a given amount of features.\n",
    "#\n",
    "# First the best features are selected and the dataset is changed to only contain these features.\n",
    "# Then the option is given to scale the dataset.\n",
    "# After scaling, the dataset is splitted into a train and test set.\n",
    "# After that the classifier is trained and the predictions with the test data are made.\n",
    "# Finally the predicted labels are used together with the actual labels to determine some\n",
    "# metrics like accuracy, recall and precision. These metrics are then returned.\n",
    "def test_amount_features(amount_features, clf, X, y, scale, clustering, flip_labels):\n",
    "    k_best = SelectKBest(chi2, k=amount_features)\n",
    "    X_new = k_best.fit_transform(X, y)\n",
    "    \n",
    "    if scale:\n",
    "        X_new = preprocessing.scale(X_new)\n",
    "        \n",
    "    X_train, X_test, y_train, y_test = train_test_split(X_new, y, test_size=0.33, random_state=33)\n",
    "    \n",
    "    if not clustering:\n",
    "        clf = clf.fit(X_train, y_train)\n",
    "    else:\n",
    "        clf.fit(X_new)\n",
    "    \n",
    "    if not clustering:\n",
    "        y_pred = clf.predict(X_test)\n",
    "    else:\n",
    "        y_pred = clf.labels_\n",
    "        \n",
    "    if flip_labels and clustering and accuracy_score(y, y_pred) < 0.5:\n",
    "        y_pred = np.asarray(y_pred)\n",
    "        y_pred = 1-y_pred\n",
    "    elif flip_labels and not clustering and accuracy_score(y_test, y_pred) < 0.5:\n",
    "        y_pred = np.asarray(y_pred)\n",
    "        y_pred = 1-y_pred    \n",
    "        \n",
    "    \n",
    "    if not clustering:\n",
    "        return amount_features, accuracy_score(y_test, y_pred), recall_score(y_test, y_pred), precision_score(y_test, y_pred)\n",
    "    else:\n",
    "        return amount_features, accuracy_score(y, y_pred), recall_score(y, y_pred), precision_score(y, y_pred)"
   ]
  },
  {
   "cell_type": "code",
   "execution_count": 66,
   "metadata": {},
   "outputs": [],
   "source": [
    "# Trains a classifier with the best features based on a given amount of features using\n",
    "# cross validation as a way to split the test and train data. This can be used as an indication\n",
    "# to determine how stable the accuracy and other metrics are.\n",
    "#\n",
    "# First the best features are selected and the dataset is changed to only contain these features.\n",
    "# Then the option is given to scale the dataset.\n",
    "# After that the new train and test sets created by KFold are iterated and used to train models.\n",
    "# The metrics of these models are the calculated and collected in arrays.\n",
    "# These arrays with the metrics values are then used to make a plotly figure that is then returned.\n",
    "def test_amount_features_kfold(amount_features, clf, X, y, scale=True):\n",
    "    k_amount, accuracy, recall, precision = [], [], [], []\n",
    "    \n",
    "    k_best = SelectKBest(chi2, k=amount_features)\n",
    "    X_new = k_best.fit_transform(X, y)\n",
    "    \n",
    "    if scale:\n",
    "        X_new = preprocessing.scale(X_new)\n",
    "        \n",
    "    kf = KFold(n_splits=5, shuffle=True, random_state=33)\n",
    "    \n",
    "    for k, (train, test) in enumerate(kf.split(X_new, y)):\n",
    "        clf.fit(X_new[train], y[train])\n",
    "        y_pred = clf.predict(X_new[test])\n",
    "        \n",
    "        k_amount.append(k)\n",
    "        accuracy.append(accuracy_score(y[test], y_pred))\n",
    "        recall.append(recall_score(y[test], y_pred))\n",
    "        precision.append(precision_score(y[test], y_pred))\n",
    "    \n",
    "    return make_plot_data(k_amount, accuracy, recall, precision)"
   ]
  },
  {
   "cell_type": "markdown",
   "metadata": {},
   "source": [
    "### Decision Tree\n",
    "\n",
    "Usage: https://scikit-learn.org/stable/modules/tree.html"
   ]
  },
  {
   "cell_type": "markdown",
   "metadata": {},
   "source": [
    "The the decision tree alorithm compartmentalizes the classes based on the different features and makes a model (decision tree) with the best decicsions to determine the classes. Bacause the mushroom dataset contains a limited amount of values (categories) for every feature I thought this algorithm would perform reasonably well."
   ]
  },
  {
   "cell_type": "code",
   "execution_count": 67,
   "metadata": {},
   "outputs": [
    {
     "data": {
      "application/vnd.plotly.v1+json": {
       "data": [
        {
         "name": "accuracy",
         "type": "scatter",
         "uid": "5d5863bd-ed67-4266-b931-7caa174d3d84",
         "x": [
          1,
          2,
          3,
          4,
          5,
          6,
          7,
          8,
          9,
          10,
          11,
          12,
          13,
          14,
          15,
          16,
          17,
          18,
          19,
          20,
          21,
          22
         ],
         "y": [
          0.6519955240581873,
          0.8985453189108542,
          0.9686684073107049,
          0.9705333830660201,
          0.9705333830660201,
          0.9850801939574786,
          0.9861991794106677,
          0.9932860872808653,
          0.9962700484893696,
          0.9981350242446848,
          1,
          1,
          1,
          1,
          1,
          1,
          1,
          1,
          1,
          1,
          1,
          1
         ]
        },
        {
         "name": "recall",
         "type": "scatter",
         "uid": "c913a82f-483d-45b9-b9c4-06e7bc115c83",
         "x": [
          1,
          2,
          3,
          4,
          5,
          6,
          7,
          8,
          9,
          10,
          11,
          12,
          13,
          14,
          15,
          16,
          17,
          18,
          19,
          20,
          21,
          22
         ],
         "y": [
          0.8389891696750903,
          0.9018050541516246,
          1,
          0.9963898916967509,
          0.9963898916967509,
          0.9978339350180505,
          1,
          1,
          1,
          0.9978339350180505,
          1,
          1,
          1,
          1,
          1,
          1,
          1,
          1,
          1,
          1,
          1,
          1
         ]
        },
        {
         "name": "precision",
         "type": "scatter",
         "uid": "3d855057-b31f-4ef0-a8a5-1063ca3bec6f",
         "x": [
          1,
          2,
          3,
          4,
          5,
          6,
          7,
          8,
          9,
          10,
          11,
          12,
          13,
          14,
          15,
          16,
          17,
          18,
          19,
          20,
          21,
          22
         ],
         "y": [
          0.6207264957264957,
          0.9018050541516246,
          0.9428182437031994,
          0.9491059147180193,
          0.9491059147180193,
          0.9739252995066948,
          0.9739803094233473,
          0.9871703492516037,
          0.992831541218638,
          0.9985549132947977,
          1,
          1,
          1,
          1,
          1,
          1,
          1,
          1,
          1,
          1,
          1,
          1
         ]
        }
       ],
       "layout": {
        "yaxis": {
         "autorange": true,
         "rangemode": "tozero"
        }
       }
      },
      "text/html": [
       "<div id=\"4b257f2c-ec66-42b3-9020-a40aedffe3d2\" style=\"height: 525px; width: 100%;\" class=\"plotly-graph-div\"></div><script type=\"text/javascript\">require([\"plotly\"], function(Plotly) { window.PLOTLYENV=window.PLOTLYENV || {};window.PLOTLYENV.BASE_URL=\"https://plot.ly\";Plotly.newPlot(\"4b257f2c-ec66-42b3-9020-a40aedffe3d2\", [{\"name\": \"accuracy\", \"x\": [1, 2, 3, 4, 5, 6, 7, 8, 9, 10, 11, 12, 13, 14, 15, 16, 17, 18, 19, 20, 21, 22], \"y\": [0.6519955240581873, 0.8985453189108542, 0.9686684073107049, 0.9705333830660201, 0.9705333830660201, 0.9850801939574786, 0.9861991794106677, 0.9932860872808653, 0.9962700484893696, 0.9981350242446848, 1.0, 1.0, 1.0, 1.0, 1.0, 1.0, 1.0, 1.0, 1.0, 1.0, 1.0, 1.0], \"type\": \"scatter\", \"uid\": \"5d5863bd-ed67-4266-b931-7caa174d3d84\"}, {\"name\": \"recall\", \"x\": [1, 2, 3, 4, 5, 6, 7, 8, 9, 10, 11, 12, 13, 14, 15, 16, 17, 18, 19, 20, 21, 22], \"y\": [0.8389891696750903, 0.9018050541516246, 1.0, 0.9963898916967509, 0.9963898916967509, 0.9978339350180505, 1.0, 1.0, 1.0, 0.9978339350180505, 1.0, 1.0, 1.0, 1.0, 1.0, 1.0, 1.0, 1.0, 1.0, 1.0, 1.0, 1.0], \"type\": \"scatter\", \"uid\": \"c913a82f-483d-45b9-b9c4-06e7bc115c83\"}, {\"name\": \"precision\", \"x\": [1, 2, 3, 4, 5, 6, 7, 8, 9, 10, 11, 12, 13, 14, 15, 16, 17, 18, 19, 20, 21, 22], \"y\": [0.6207264957264957, 0.9018050541516246, 0.9428182437031994, 0.9491059147180193, 0.9491059147180193, 0.9739252995066948, 0.9739803094233473, 0.9871703492516037, 0.992831541218638, 0.9985549132947977, 1.0, 1.0, 1.0, 1.0, 1.0, 1.0, 1.0, 1.0, 1.0, 1.0, 1.0, 1.0], \"type\": \"scatter\", \"uid\": \"3d855057-b31f-4ef0-a8a5-1063ca3bec6f\"}], {\"yaxis\": {\"autorange\": true, \"rangemode\": \"tozero\"}}, {\"showLink\": true, \"linkText\": \"Export to plot.ly\"})});</script><script type=\"text/javascript\">window.addEventListener(\"resize\", function(){window._Plotly.Plots.resize(document.getElementById(\"4b257f2c-ec66-42b3-9020-a40aedffe3d2\"));});</script>"
      ],
      "text/vnd.plotly.v1+html": [
       "<div id=\"4b257f2c-ec66-42b3-9020-a40aedffe3d2\" style=\"height: 525px; width: 100%;\" class=\"plotly-graph-div\"></div><script type=\"text/javascript\">require([\"plotly\"], function(Plotly) { window.PLOTLYENV=window.PLOTLYENV || {};window.PLOTLYENV.BASE_URL=\"https://plot.ly\";Plotly.newPlot(\"4b257f2c-ec66-42b3-9020-a40aedffe3d2\", [{\"name\": \"accuracy\", \"x\": [1, 2, 3, 4, 5, 6, 7, 8, 9, 10, 11, 12, 13, 14, 15, 16, 17, 18, 19, 20, 21, 22], \"y\": [0.6519955240581873, 0.8985453189108542, 0.9686684073107049, 0.9705333830660201, 0.9705333830660201, 0.9850801939574786, 0.9861991794106677, 0.9932860872808653, 0.9962700484893696, 0.9981350242446848, 1.0, 1.0, 1.0, 1.0, 1.0, 1.0, 1.0, 1.0, 1.0, 1.0, 1.0, 1.0], \"type\": \"scatter\", \"uid\": \"5d5863bd-ed67-4266-b931-7caa174d3d84\"}, {\"name\": \"recall\", \"x\": [1, 2, 3, 4, 5, 6, 7, 8, 9, 10, 11, 12, 13, 14, 15, 16, 17, 18, 19, 20, 21, 22], \"y\": [0.8389891696750903, 0.9018050541516246, 1.0, 0.9963898916967509, 0.9963898916967509, 0.9978339350180505, 1.0, 1.0, 1.0, 0.9978339350180505, 1.0, 1.0, 1.0, 1.0, 1.0, 1.0, 1.0, 1.0, 1.0, 1.0, 1.0, 1.0], \"type\": \"scatter\", \"uid\": \"c913a82f-483d-45b9-b9c4-06e7bc115c83\"}, {\"name\": \"precision\", \"x\": [1, 2, 3, 4, 5, 6, 7, 8, 9, 10, 11, 12, 13, 14, 15, 16, 17, 18, 19, 20, 21, 22], \"y\": [0.6207264957264957, 0.9018050541516246, 0.9428182437031994, 0.9491059147180193, 0.9491059147180193, 0.9739252995066948, 0.9739803094233473, 0.9871703492516037, 0.992831541218638, 0.9985549132947977, 1.0, 1.0, 1.0, 1.0, 1.0, 1.0, 1.0, 1.0, 1.0, 1.0, 1.0, 1.0], \"type\": \"scatter\", \"uid\": \"3d855057-b31f-4ef0-a8a5-1063ca3bec6f\"}], {\"yaxis\": {\"autorange\": true, \"rangemode\": \"tozero\"}}, {\"showLink\": true, \"linkText\": \"Export to plot.ly\"})});</script><script type=\"text/javascript\">window.addEventListener(\"resize\", function(){window._Plotly.Plots.resize(document.getElementById(\"4b257f2c-ec66-42b3-9020-a40aedffe3d2\"));});</script>"
      ]
     },
     "metadata": {},
     "output_type": "display_data"
    }
   ],
   "source": [
    "from sklearn import tree\n",
    "\n",
    "clf_tree = tree.DecisionTreeClassifier()\n",
    "\n",
    "iplot(test_different_features(22, clf_tree, X, y), filename='Decision tree metrics')"
   ]
  },
  {
   "cell_type": "markdown",
   "metadata": {},
   "source": [
    "Looking at the results above the decision tree seems very effective at around 10 or 11 features. When looking at the other algorithms this one seems the most effective. I believe it's because of the power a decision tree has with categorical features.\n",
    "\n",
    "To verify that the algorithm is as effective as it is with other test and train datasets cross validation is used. In the graph below it is visible that the same metrics are achieved with different test and train chunks using only 10 features of the dataset."
   ]
  },
  {
   "cell_type": "code",
   "execution_count": 68,
   "metadata": {},
   "outputs": [
    {
     "data": {
      "application/vnd.plotly.v1+json": {
       "data": [
        {
         "name": "accuracy",
         "type": "scatter",
         "uid": "01157575-a6e4-479e-b117-7669c0326147",
         "x": [
          0,
          1,
          2,
          3,
          4
         ],
         "y": [
          0.9975384615384615,
          0.9993846153846154,
          0.9932307692307693,
          1,
          0.9975369458128078
         ]
        },
        {
         "name": "recall",
         "type": "scatter",
         "uid": "8857200a-c965-49f7-8359-2be2df4f23f0",
         "x": [
          0,
          1,
          2,
          3,
          4
         ],
         "y": [
          0.9963898916967509,
          1,
          0.9951807228915662,
          1,
          0.9988095238095238
         ]
        },
        {
         "name": "precision",
         "type": "scatter",
         "uid": "dd7810f1-b4b8-4ca5-ac96-ad8a95c8312d",
         "x": [
          0,
          1,
          2,
          3,
          4
         ],
         "y": [
          0.9987937273823885,
          0.9987995198079231,
          0.9915966386554622,
          1,
          0.996437054631829
         ]
        }
       ],
       "layout": {
        "yaxis": {
         "autorange": true,
         "rangemode": "tozero"
        }
       }
      },
      "text/html": [
       "<div id=\"9be28abb-9dbf-44a0-a557-d1be8aa09a61\" style=\"height: 525px; width: 100%;\" class=\"plotly-graph-div\"></div><script type=\"text/javascript\">require([\"plotly\"], function(Plotly) { window.PLOTLYENV=window.PLOTLYENV || {};window.PLOTLYENV.BASE_URL=\"https://plot.ly\";Plotly.newPlot(\"9be28abb-9dbf-44a0-a557-d1be8aa09a61\", [{\"name\": \"accuracy\", \"x\": [0, 1, 2, 3, 4], \"y\": [0.9975384615384615, 0.9993846153846154, 0.9932307692307693, 1.0, 0.9975369458128078], \"type\": \"scatter\", \"uid\": \"01157575-a6e4-479e-b117-7669c0326147\"}, {\"name\": \"recall\", \"x\": [0, 1, 2, 3, 4], \"y\": [0.9963898916967509, 1.0, 0.9951807228915662, 1.0, 0.9988095238095238], \"type\": \"scatter\", \"uid\": \"8857200a-c965-49f7-8359-2be2df4f23f0\"}, {\"name\": \"precision\", \"x\": [0, 1, 2, 3, 4], \"y\": [0.9987937273823885, 0.9987995198079231, 0.9915966386554622, 1.0, 0.996437054631829], \"type\": \"scatter\", \"uid\": \"dd7810f1-b4b8-4ca5-ac96-ad8a95c8312d\"}], {\"yaxis\": {\"autorange\": true, \"rangemode\": \"tozero\"}}, {\"showLink\": true, \"linkText\": \"Export to plot.ly\"})});</script><script type=\"text/javascript\">window.addEventListener(\"resize\", function(){window._Plotly.Plots.resize(document.getElementById(\"9be28abb-9dbf-44a0-a557-d1be8aa09a61\"));});</script>"
      ],
      "text/vnd.plotly.v1+html": [
       "<div id=\"9be28abb-9dbf-44a0-a557-d1be8aa09a61\" style=\"height: 525px; width: 100%;\" class=\"plotly-graph-div\"></div><script type=\"text/javascript\">require([\"plotly\"], function(Plotly) { window.PLOTLYENV=window.PLOTLYENV || {};window.PLOTLYENV.BASE_URL=\"https://plot.ly\";Plotly.newPlot(\"9be28abb-9dbf-44a0-a557-d1be8aa09a61\", [{\"name\": \"accuracy\", \"x\": [0, 1, 2, 3, 4], \"y\": [0.9975384615384615, 0.9993846153846154, 0.9932307692307693, 1.0, 0.9975369458128078], \"type\": \"scatter\", \"uid\": \"01157575-a6e4-479e-b117-7669c0326147\"}, {\"name\": \"recall\", \"x\": [0, 1, 2, 3, 4], \"y\": [0.9963898916967509, 1.0, 0.9951807228915662, 1.0, 0.9988095238095238], \"type\": \"scatter\", \"uid\": \"8857200a-c965-49f7-8359-2be2df4f23f0\"}, {\"name\": \"precision\", \"x\": [0, 1, 2, 3, 4], \"y\": [0.9987937273823885, 0.9987995198079231, 0.9915966386554622, 1.0, 0.996437054631829], \"type\": \"scatter\", \"uid\": \"dd7810f1-b4b8-4ca5-ac96-ad8a95c8312d\"}], {\"yaxis\": {\"autorange\": true, \"rangemode\": \"tozero\"}}, {\"showLink\": true, \"linkText\": \"Export to plot.ly\"})});</script><script type=\"text/javascript\">window.addEventListener(\"resize\", function(){window._Plotly.Plots.resize(document.getElementById(\"9be28abb-9dbf-44a0-a557-d1be8aa09a61\"));});</script>"
      ]
     },
     "metadata": {},
     "output_type": "display_data"
    }
   ],
   "source": [
    "iplot(test_amount_features_kfold(10, clf_tree, X, y), filename='Decision tree metrics KFold')"
   ]
  },
  {
   "cell_type": "code",
   "execution_count": 69,
   "metadata": {},
   "outputs": [],
   "source": [
    "import graphviz \n",
    "dot_data = tree.export_graphviz(clf_tree, out_file=None) \n",
    "\n",
    "graph = graphviz.Source(dot_data) \n",
    "graph.render(\"mushrooms\") \n",
    "\n",
    "dot_data = tree.export_graphviz(clf_tree, out_file=None, \n",
    "                     feature_names=new_features,  \n",
    "                     class_names=['edible', 'poisonous'],  \n",
    "                     filled=True, rounded=True,  \n",
    "                     special_characters=True)  \n",
    "graph = graphviz.Source(dot_data)  "
   ]
  },
  {
   "cell_type": "markdown",
   "metadata": {},
   "source": [
    "### Support Vector Machines\n",
    "\n",
    "Usage: https://scikit-learn.org/stable/modules/generated/sklearn.svm.SVC.html#sklearn.svm.SVC\n",
    "\n",
    "The SVM algorithm calcutales a hyperplane based on features to separate the different classes. "
   ]
  },
  {
   "cell_type": "code",
   "execution_count": 70,
   "metadata": {},
   "outputs": [
    {
     "data": {
      "application/vnd.plotly.v1+json": {
       "data": [
        {
         "name": "accuracy",
         "type": "scatter",
         "uid": "08a4ce5c-12b1-4e42-8d85-d9c1c8f9786a",
         "x": [
          1,
          2,
          3,
          4,
          5,
          6,
          7,
          8,
          9,
          10,
          11,
          12,
          13,
          14,
          15,
          16,
          17,
          18,
          19,
          20,
          21,
          22
         ],
         "y": [
          0.6519955240581873,
          0.8478179783662813,
          0.9134651249533756,
          0.928011935844834,
          0.9410667661320403,
          0.9530026109660574,
          0.9507646400596792,
          0.9723983588213353,
          0.9817232375979112,
          0.9820962327489743,
          0.9884371503170459,
          0.9884371503170459,
          0.9884371503170459,
          0.9884371503170459,
          0.9921671018276762,
          0.9921671018276762,
          0.9955240581872435,
          1,
          1,
          1,
          1,
          1
         ]
        },
        {
         "name": "recall",
         "type": "scatter",
         "uid": "13f01246-dae2-4631-b22a-aa4fa1a41834",
         "x": [
          1,
          2,
          3,
          4,
          5,
          6,
          7,
          8,
          9,
          10,
          11,
          12,
          13,
          14,
          15,
          16,
          17,
          18,
          19,
          20,
          21,
          22
         ],
         "y": [
          0.8389891696750903,
          0.9732851985559566,
          0.9833935018050541,
          0.9458483754512635,
          0.9913357400722022,
          0.9913357400722022,
          0.9898916967509025,
          0.9935018050541516,
          0.9935018050541516,
          1,
          1,
          1,
          1,
          1,
          1,
          1,
          1,
          1,
          1,
          1,
          1,
          1
         ]
        },
        {
         "name": "precision",
         "type": "scatter",
         "uid": "4145bd5e-d5ba-420b-9082-a43a5e60a7cc",
         "x": [
          1,
          2,
          3,
          4,
          5,
          6,
          7,
          8,
          9,
          10,
          11,
          12,
          13,
          14,
          15,
          16,
          17,
          18,
          19,
          20,
          21,
          22
         ],
         "y": [
          0.6207264957264957,
          0.7841768470040721,
          0.8669637173774666,
          0.9173669467787114,
          0.9038841342988808,
          0.9233355749831876,
          0.9207521826729349,
          0.9548924358084664,
          0.9717514124293786,
          0.9665038381018841,
          0.9781073446327684,
          0.9781073446327684,
          0.9781073446327684,
          0.9781073446327684,
          0.9850640113798008,
          0.9850640113798008,
          0.9914101646385111,
          1,
          1,
          1,
          1,
          1
         ]
        }
       ],
       "layout": {
        "yaxis": {
         "autorange": true,
         "rangemode": "tozero"
        }
       }
      },
      "text/html": [
       "<div id=\"4a947de1-f52c-43f9-acf5-aeb9b961470c\" style=\"height: 525px; width: 100%;\" class=\"plotly-graph-div\"></div><script type=\"text/javascript\">require([\"plotly\"], function(Plotly) { window.PLOTLYENV=window.PLOTLYENV || {};window.PLOTLYENV.BASE_URL=\"https://plot.ly\";Plotly.newPlot(\"4a947de1-f52c-43f9-acf5-aeb9b961470c\", [{\"name\": \"accuracy\", \"x\": [1, 2, 3, 4, 5, 6, 7, 8, 9, 10, 11, 12, 13, 14, 15, 16, 17, 18, 19, 20, 21, 22], \"y\": [0.6519955240581873, 0.8478179783662813, 0.9134651249533756, 0.928011935844834, 0.9410667661320403, 0.9530026109660574, 0.9507646400596792, 0.9723983588213353, 0.9817232375979112, 0.9820962327489743, 0.9884371503170459, 0.9884371503170459, 0.9884371503170459, 0.9884371503170459, 0.9921671018276762, 0.9921671018276762, 0.9955240581872435, 1.0, 1.0, 1.0, 1.0, 1.0], \"type\": \"scatter\", \"uid\": \"08a4ce5c-12b1-4e42-8d85-d9c1c8f9786a\"}, {\"name\": \"recall\", \"x\": [1, 2, 3, 4, 5, 6, 7, 8, 9, 10, 11, 12, 13, 14, 15, 16, 17, 18, 19, 20, 21, 22], \"y\": [0.8389891696750903, 0.9732851985559566, 0.9833935018050541, 0.9458483754512635, 0.9913357400722022, 0.9913357400722022, 0.9898916967509025, 0.9935018050541516, 0.9935018050541516, 1.0, 1.0, 1.0, 1.0, 1.0, 1.0, 1.0, 1.0, 1.0, 1.0, 1.0, 1.0, 1.0], \"type\": \"scatter\", \"uid\": \"13f01246-dae2-4631-b22a-aa4fa1a41834\"}, {\"name\": \"precision\", \"x\": [1, 2, 3, 4, 5, 6, 7, 8, 9, 10, 11, 12, 13, 14, 15, 16, 17, 18, 19, 20, 21, 22], \"y\": [0.6207264957264957, 0.7841768470040721, 0.8669637173774666, 0.9173669467787114, 0.9038841342988808, 0.9233355749831876, 0.9207521826729349, 0.9548924358084664, 0.9717514124293786, 0.9665038381018841, 0.9781073446327684, 0.9781073446327684, 0.9781073446327684, 0.9781073446327684, 0.9850640113798008, 0.9850640113798008, 0.9914101646385111, 1.0, 1.0, 1.0, 1.0, 1.0], \"type\": \"scatter\", \"uid\": \"4145bd5e-d5ba-420b-9082-a43a5e60a7cc\"}], {\"yaxis\": {\"autorange\": true, \"rangemode\": \"tozero\"}}, {\"showLink\": true, \"linkText\": \"Export to plot.ly\"})});</script><script type=\"text/javascript\">window.addEventListener(\"resize\", function(){window._Plotly.Plots.resize(document.getElementById(\"4a947de1-f52c-43f9-acf5-aeb9b961470c\"));});</script>"
      ],
      "text/vnd.plotly.v1+html": [
       "<div id=\"4a947de1-f52c-43f9-acf5-aeb9b961470c\" style=\"height: 525px; width: 100%;\" class=\"plotly-graph-div\"></div><script type=\"text/javascript\">require([\"plotly\"], function(Plotly) { window.PLOTLYENV=window.PLOTLYENV || {};window.PLOTLYENV.BASE_URL=\"https://plot.ly\";Plotly.newPlot(\"4a947de1-f52c-43f9-acf5-aeb9b961470c\", [{\"name\": \"accuracy\", \"x\": [1, 2, 3, 4, 5, 6, 7, 8, 9, 10, 11, 12, 13, 14, 15, 16, 17, 18, 19, 20, 21, 22], \"y\": [0.6519955240581873, 0.8478179783662813, 0.9134651249533756, 0.928011935844834, 0.9410667661320403, 0.9530026109660574, 0.9507646400596792, 0.9723983588213353, 0.9817232375979112, 0.9820962327489743, 0.9884371503170459, 0.9884371503170459, 0.9884371503170459, 0.9884371503170459, 0.9921671018276762, 0.9921671018276762, 0.9955240581872435, 1.0, 1.0, 1.0, 1.0, 1.0], \"type\": \"scatter\", \"uid\": \"08a4ce5c-12b1-4e42-8d85-d9c1c8f9786a\"}, {\"name\": \"recall\", \"x\": [1, 2, 3, 4, 5, 6, 7, 8, 9, 10, 11, 12, 13, 14, 15, 16, 17, 18, 19, 20, 21, 22], \"y\": [0.8389891696750903, 0.9732851985559566, 0.9833935018050541, 0.9458483754512635, 0.9913357400722022, 0.9913357400722022, 0.9898916967509025, 0.9935018050541516, 0.9935018050541516, 1.0, 1.0, 1.0, 1.0, 1.0, 1.0, 1.0, 1.0, 1.0, 1.0, 1.0, 1.0, 1.0], \"type\": \"scatter\", \"uid\": \"13f01246-dae2-4631-b22a-aa4fa1a41834\"}, {\"name\": \"precision\", \"x\": [1, 2, 3, 4, 5, 6, 7, 8, 9, 10, 11, 12, 13, 14, 15, 16, 17, 18, 19, 20, 21, 22], \"y\": [0.6207264957264957, 0.7841768470040721, 0.8669637173774666, 0.9173669467787114, 0.9038841342988808, 0.9233355749831876, 0.9207521826729349, 0.9548924358084664, 0.9717514124293786, 0.9665038381018841, 0.9781073446327684, 0.9781073446327684, 0.9781073446327684, 0.9781073446327684, 0.9850640113798008, 0.9850640113798008, 0.9914101646385111, 1.0, 1.0, 1.0, 1.0, 1.0], \"type\": \"scatter\", \"uid\": \"4145bd5e-d5ba-420b-9082-a43a5e60a7cc\"}], {\"yaxis\": {\"autorange\": true, \"rangemode\": \"tozero\"}}, {\"showLink\": true, \"linkText\": \"Export to plot.ly\"})});</script><script type=\"text/javascript\">window.addEventListener(\"resize\", function(){window._Plotly.Plots.resize(document.getElementById(\"4a947de1-f52c-43f9-acf5-aeb9b961470c\"));});</script>"
      ]
     },
     "metadata": {},
     "output_type": "display_data"
    }
   ],
   "source": [
    "from sklearn import svm\n",
    "\n",
    "clf_svm = svm.SVC(gamma='scale')\n",
    "iplot(test_different_features(22, clf_svm, X, y), filename='Support Vector Machines metrics')"
   ]
  },
  {
   "cell_type": "markdown",
   "metadata": {},
   "source": [
    "Looking at the graph above SVM is also a very effective algorithm, but needs more features to be able to be completely certain a mushroom is edible.\n",
    "\n",
    "At around 18 features the algorithm can be "
   ]
  },
  {
   "cell_type": "code",
   "execution_count": 71,
   "metadata": {},
   "outputs": [
    {
     "data": {
      "application/vnd.plotly.v1+json": {
       "data": [
        {
         "name": "accuracy",
         "type": "scatter",
         "uid": "cf3233c4-52c2-44c7-9df4-739a88dfdc18",
         "x": [
          0,
          1,
          2,
          3,
          4
         ],
         "y": [
          1,
          1,
          1,
          1,
          1
         ]
        },
        {
         "name": "recall",
         "type": "scatter",
         "uid": "14ca2c19-e7ce-4da4-acfb-492d7c51a33c",
         "x": [
          0,
          1,
          2,
          3,
          4
         ],
         "y": [
          1,
          1,
          1,
          1,
          1
         ]
        },
        {
         "name": "precision",
         "type": "scatter",
         "uid": "aac8e9f2-8a38-4815-83e4-dc79cfd70eb8",
         "x": [
          0,
          1,
          2,
          3,
          4
         ],
         "y": [
          1,
          1,
          1,
          1,
          1
         ]
        }
       ],
       "layout": {
        "yaxis": {
         "autorange": true,
         "rangemode": "tozero"
        }
       }
      },
      "text/html": [
       "<div id=\"6a34780e-ab04-41f3-9ddb-4167b823754c\" style=\"height: 525px; width: 100%;\" class=\"plotly-graph-div\"></div><script type=\"text/javascript\">require([\"plotly\"], function(Plotly) { window.PLOTLYENV=window.PLOTLYENV || {};window.PLOTLYENV.BASE_URL=\"https://plot.ly\";Plotly.newPlot(\"6a34780e-ab04-41f3-9ddb-4167b823754c\", [{\"name\": \"accuracy\", \"x\": [0, 1, 2, 3, 4], \"y\": [1.0, 1.0, 1.0, 1.0, 1.0], \"type\": \"scatter\", \"uid\": \"cf3233c4-52c2-44c7-9df4-739a88dfdc18\"}, {\"name\": \"recall\", \"x\": [0, 1, 2, 3, 4], \"y\": [1.0, 1.0, 1.0, 1.0, 1.0], \"type\": \"scatter\", \"uid\": \"14ca2c19-e7ce-4da4-acfb-492d7c51a33c\"}, {\"name\": \"precision\", \"x\": [0, 1, 2, 3, 4], \"y\": [1.0, 1.0, 1.0, 1.0, 1.0], \"type\": \"scatter\", \"uid\": \"aac8e9f2-8a38-4815-83e4-dc79cfd70eb8\"}], {\"yaxis\": {\"autorange\": true, \"rangemode\": \"tozero\"}}, {\"showLink\": true, \"linkText\": \"Export to plot.ly\"})});</script><script type=\"text/javascript\">window.addEventListener(\"resize\", function(){window._Plotly.Plots.resize(document.getElementById(\"6a34780e-ab04-41f3-9ddb-4167b823754c\"));});</script>"
      ],
      "text/vnd.plotly.v1+html": [
       "<div id=\"6a34780e-ab04-41f3-9ddb-4167b823754c\" style=\"height: 525px; width: 100%;\" class=\"plotly-graph-div\"></div><script type=\"text/javascript\">require([\"plotly\"], function(Plotly) { window.PLOTLYENV=window.PLOTLYENV || {};window.PLOTLYENV.BASE_URL=\"https://plot.ly\";Plotly.newPlot(\"6a34780e-ab04-41f3-9ddb-4167b823754c\", [{\"name\": \"accuracy\", \"x\": [0, 1, 2, 3, 4], \"y\": [1.0, 1.0, 1.0, 1.0, 1.0], \"type\": \"scatter\", \"uid\": \"cf3233c4-52c2-44c7-9df4-739a88dfdc18\"}, {\"name\": \"recall\", \"x\": [0, 1, 2, 3, 4], \"y\": [1.0, 1.0, 1.0, 1.0, 1.0], \"type\": \"scatter\", \"uid\": \"14ca2c19-e7ce-4da4-acfb-492d7c51a33c\"}, {\"name\": \"precision\", \"x\": [0, 1, 2, 3, 4], \"y\": [1.0, 1.0, 1.0, 1.0, 1.0], \"type\": \"scatter\", \"uid\": \"aac8e9f2-8a38-4815-83e4-dc79cfd70eb8\"}], {\"yaxis\": {\"autorange\": true, \"rangemode\": \"tozero\"}}, {\"showLink\": true, \"linkText\": \"Export to plot.ly\"})});</script><script type=\"text/javascript\">window.addEventListener(\"resize\", function(){window._Plotly.Plots.resize(document.getElementById(\"6a34780e-ab04-41f3-9ddb-4167b823754c\"));});</script>"
      ]
     },
     "metadata": {},
     "output_type": "display_data"
    }
   ],
   "source": [
    "iplot(test_amount_features_kfold(18, clf_svm, X, y), filename='Support Vector Machines metrics KFold')"
   ]
  },
  {
   "cell_type": "markdown",
   "metadata": {},
   "source": [
    "### Gaussian Naive Bayes\n",
    "\n",
    "https://scikit-learn.org/stable/modules/generated/sklearn.naive_bayes.GaussianNB.html#sklearn.naive_bayes.GaussianNB"
   ]
  },
  {
   "cell_type": "code",
   "execution_count": 72,
   "metadata": {},
   "outputs": [
    {
     "data": {
      "application/vnd.plotly.v1+json": {
       "data": [
        {
         "name": "accuracy",
         "type": "scatter",
         "uid": "3feddeb4-eea7-4e0d-ba92-f21c80e40f3e",
         "x": [
          1,
          2,
          3,
          4,
          5,
          6,
          7,
          8,
          9,
          10,
          11,
          12,
          13,
          14,
          15,
          16,
          17,
          18,
          19,
          20,
          21,
          22
         ],
         "y": [
          0.6519955240581873,
          0.7672510257366654,
          0.7269675494218575,
          0.8019395747855278,
          0.8310331965684447,
          0.9093621782916822,
          0.9093621782916822,
          0.9130921298023126,
          0.9183140619171951,
          0.9183140619171951,
          0.9239089891831406,
          0.9201790376725103,
          0.9190600522193212,
          0.9190600522193212,
          0.9198060425214473,
          0.9186870570682582,
          0.9190600522193212,
          0.9235359940320775,
          0.9254009697873927,
          0.9257739649384558,
          0.8918314061917195,
          0.8918314061917195
         ]
        },
        {
         "name": "recall",
         "type": "scatter",
         "uid": "37b1fc5f-81b0-4312-b06e-a1ccb5ab207f",
         "x": [
          1,
          2,
          3,
          4,
          5,
          6,
          7,
          8,
          9,
          10,
          11,
          12,
          13,
          14,
          15,
          16,
          17,
          18,
          19,
          20,
          21,
          22
         ],
         "y": [
          0.8389891696750903,
          0.8173285198555956,
          0.7595667870036101,
          0.8151624548736462,
          0.8938628158844766,
          0.9422382671480144,
          0.9422382671480144,
          0.9422382671480144,
          0.9458483754512635,
          0.9458483754512635,
          0.9458483754512635,
          0.9422382671480144,
          0.9422382671480144,
          0.9436823104693141,
          0.9436823104693141,
          0.9436823104693141,
          0.9436823104693141,
          0.9350180505415162,
          0.9097472924187726,
          0.9104693140794223,
          0.8433212996389892,
          0.8433212996389892
         ]
        },
        {
         "name": "precision",
         "type": "scatter",
         "uid": "778abc44-20a1-49ae-ab2f-3e6bc032eb6a",
         "x": [
          1,
          2,
          3,
          4,
          5,
          6,
          7,
          8,
          9,
          10,
          11,
          12,
          13,
          14,
          15,
          16,
          17,
          18,
          19,
          20,
          21,
          22
         ],
         "y": [
          0.6207264957264957,
          0.7531603459747173,
          0.7250172294968987,
          0.8041310541310541,
          0.8018134715025906,
          0.8889645776566758,
          0.8889645776566758,
          0.8950617283950617,
          0.9009628610729024,
          0.9009628610729024,
          0.9103544127866574,
          0.9068797776233496,
          0.90499306518724,
          0.9038727524204703,
          0.9051246537396122,
          0.9032480995162405,
          0.9038727524204703,
          0.9184397163120568,
          0.9438202247191011,
          0.9438622754491018,
          0.9411764705882353,
          0.9411764705882353
         ]
        }
       ],
       "layout": {
        "yaxis": {
         "autorange": true,
         "rangemode": "tozero"
        }
       }
      },
      "text/html": [
       "<div id=\"ec009781-0b53-4b86-a7b5-09b768bc6015\" style=\"height: 525px; width: 100%;\" class=\"plotly-graph-div\"></div><script type=\"text/javascript\">require([\"plotly\"], function(Plotly) { window.PLOTLYENV=window.PLOTLYENV || {};window.PLOTLYENV.BASE_URL=\"https://plot.ly\";Plotly.newPlot(\"ec009781-0b53-4b86-a7b5-09b768bc6015\", [{\"name\": \"accuracy\", \"x\": [1, 2, 3, 4, 5, 6, 7, 8, 9, 10, 11, 12, 13, 14, 15, 16, 17, 18, 19, 20, 21, 22], \"y\": [0.6519955240581873, 0.7672510257366654, 0.7269675494218575, 0.8019395747855278, 0.8310331965684447, 0.9093621782916822, 0.9093621782916822, 0.9130921298023126, 0.9183140619171951, 0.9183140619171951, 0.9239089891831406, 0.9201790376725103, 0.9190600522193212, 0.9190600522193212, 0.9198060425214473, 0.9186870570682582, 0.9190600522193212, 0.9235359940320775, 0.9254009697873927, 0.9257739649384558, 0.8918314061917195, 0.8918314061917195], \"type\": \"scatter\", \"uid\": \"3feddeb4-eea7-4e0d-ba92-f21c80e40f3e\"}, {\"name\": \"recall\", \"x\": [1, 2, 3, 4, 5, 6, 7, 8, 9, 10, 11, 12, 13, 14, 15, 16, 17, 18, 19, 20, 21, 22], \"y\": [0.8389891696750903, 0.8173285198555956, 0.7595667870036101, 0.8151624548736462, 0.8938628158844766, 0.9422382671480144, 0.9422382671480144, 0.9422382671480144, 0.9458483754512635, 0.9458483754512635, 0.9458483754512635, 0.9422382671480144, 0.9422382671480144, 0.9436823104693141, 0.9436823104693141, 0.9436823104693141, 0.9436823104693141, 0.9350180505415162, 0.9097472924187726, 0.9104693140794223, 0.8433212996389892, 0.8433212996389892], \"type\": \"scatter\", \"uid\": \"37b1fc5f-81b0-4312-b06e-a1ccb5ab207f\"}, {\"name\": \"precision\", \"x\": [1, 2, 3, 4, 5, 6, 7, 8, 9, 10, 11, 12, 13, 14, 15, 16, 17, 18, 19, 20, 21, 22], \"y\": [0.6207264957264957, 0.7531603459747173, 0.7250172294968987, 0.8041310541310541, 0.8018134715025906, 0.8889645776566758, 0.8889645776566758, 0.8950617283950617, 0.9009628610729024, 0.9009628610729024, 0.9103544127866574, 0.9068797776233496, 0.90499306518724, 0.9038727524204703, 0.9051246537396122, 0.9032480995162405, 0.9038727524204703, 0.9184397163120568, 0.9438202247191011, 0.9438622754491018, 0.9411764705882353, 0.9411764705882353], \"type\": \"scatter\", \"uid\": \"778abc44-20a1-49ae-ab2f-3e6bc032eb6a\"}], {\"yaxis\": {\"autorange\": true, \"rangemode\": \"tozero\"}}, {\"showLink\": true, \"linkText\": \"Export to plot.ly\"})});</script><script type=\"text/javascript\">window.addEventListener(\"resize\", function(){window._Plotly.Plots.resize(document.getElementById(\"ec009781-0b53-4b86-a7b5-09b768bc6015\"));});</script>"
      ],
      "text/vnd.plotly.v1+html": [
       "<div id=\"ec009781-0b53-4b86-a7b5-09b768bc6015\" style=\"height: 525px; width: 100%;\" class=\"plotly-graph-div\"></div><script type=\"text/javascript\">require([\"plotly\"], function(Plotly) { window.PLOTLYENV=window.PLOTLYENV || {};window.PLOTLYENV.BASE_URL=\"https://plot.ly\";Plotly.newPlot(\"ec009781-0b53-4b86-a7b5-09b768bc6015\", [{\"name\": \"accuracy\", \"x\": [1, 2, 3, 4, 5, 6, 7, 8, 9, 10, 11, 12, 13, 14, 15, 16, 17, 18, 19, 20, 21, 22], \"y\": [0.6519955240581873, 0.7672510257366654, 0.7269675494218575, 0.8019395747855278, 0.8310331965684447, 0.9093621782916822, 0.9093621782916822, 0.9130921298023126, 0.9183140619171951, 0.9183140619171951, 0.9239089891831406, 0.9201790376725103, 0.9190600522193212, 0.9190600522193212, 0.9198060425214473, 0.9186870570682582, 0.9190600522193212, 0.9235359940320775, 0.9254009697873927, 0.9257739649384558, 0.8918314061917195, 0.8918314061917195], \"type\": \"scatter\", \"uid\": \"3feddeb4-eea7-4e0d-ba92-f21c80e40f3e\"}, {\"name\": \"recall\", \"x\": [1, 2, 3, 4, 5, 6, 7, 8, 9, 10, 11, 12, 13, 14, 15, 16, 17, 18, 19, 20, 21, 22], \"y\": [0.8389891696750903, 0.8173285198555956, 0.7595667870036101, 0.8151624548736462, 0.8938628158844766, 0.9422382671480144, 0.9422382671480144, 0.9422382671480144, 0.9458483754512635, 0.9458483754512635, 0.9458483754512635, 0.9422382671480144, 0.9422382671480144, 0.9436823104693141, 0.9436823104693141, 0.9436823104693141, 0.9436823104693141, 0.9350180505415162, 0.9097472924187726, 0.9104693140794223, 0.8433212996389892, 0.8433212996389892], \"type\": \"scatter\", \"uid\": \"37b1fc5f-81b0-4312-b06e-a1ccb5ab207f\"}, {\"name\": \"precision\", \"x\": [1, 2, 3, 4, 5, 6, 7, 8, 9, 10, 11, 12, 13, 14, 15, 16, 17, 18, 19, 20, 21, 22], \"y\": [0.6207264957264957, 0.7531603459747173, 0.7250172294968987, 0.8041310541310541, 0.8018134715025906, 0.8889645776566758, 0.8889645776566758, 0.8950617283950617, 0.9009628610729024, 0.9009628610729024, 0.9103544127866574, 0.9068797776233496, 0.90499306518724, 0.9038727524204703, 0.9051246537396122, 0.9032480995162405, 0.9038727524204703, 0.9184397163120568, 0.9438202247191011, 0.9438622754491018, 0.9411764705882353, 0.9411764705882353], \"type\": \"scatter\", \"uid\": \"778abc44-20a1-49ae-ab2f-3e6bc032eb6a\"}], {\"yaxis\": {\"autorange\": true, \"rangemode\": \"tozero\"}}, {\"showLink\": true, \"linkText\": \"Export to plot.ly\"})});</script><script type=\"text/javascript\">window.addEventListener(\"resize\", function(){window._Plotly.Plots.resize(document.getElementById(\"ec009781-0b53-4b86-a7b5-09b768bc6015\"));});</script>"
      ]
     },
     "metadata": {},
     "output_type": "display_data"
    }
   ],
   "source": [
    "from sklearn.naive_bayes import GaussianNB\n",
    "\n",
    "clf_gaus = GaussianNB()\n",
    "iplot(test_different_features(22, clf_gaus, X, y), filename='Gaussian Naive Bayes metrics')"
   ]
  },
  {
   "cell_type": "code",
   "execution_count": 73,
   "metadata": {},
   "outputs": [
    {
     "data": {
      "application/vnd.plotly.v1+json": {
       "data": [
        {
         "name": "accuracy",
         "type": "scatter",
         "uid": "2045c638-69b6-4e57-bd51-a92badc85e89",
         "x": [
          0,
          1,
          2,
          3,
          4
         ],
         "y": [
          0.9107692307692308,
          0.908923076923077,
          0.8935384615384615,
          0.9150769230769231,
          0.9113300492610837
         ]
        },
        {
         "name": "recall",
         "type": "scatter",
         "uid": "a39e7ecf-f13c-4178-bc1a-cf9e95aa194c",
         "x": [
          0,
          1,
          2,
          3,
          4
         ],
         "y": [
          0.9434416365824309,
          0.9387019230769231,
          0.9313253012048193,
          0.9542857142857143,
          0.9464285714285714
         ]
        },
        {
         "name": "precision",
         "type": "scatter",
         "uid": "59f49d34-c577-4398-8b66-11270e5f3b05",
         "x": [
          0,
          1,
          2,
          3,
          4
         ],
         "y": [
          0.8888888888888888,
          0.8895216400911162,
          0.8695163104611924,
          0.894962486602358,
          0.889261744966443
         ]
        }
       ],
       "layout": {
        "yaxis": {
         "autorange": true,
         "rangemode": "tozero"
        }
       }
      },
      "text/html": [
       "<div id=\"47b1eeb0-b977-4826-be7b-f965e4e4168b\" style=\"height: 525px; width: 100%;\" class=\"plotly-graph-div\"></div><script type=\"text/javascript\">require([\"plotly\"], function(Plotly) { window.PLOTLYENV=window.PLOTLYENV || {};window.PLOTLYENV.BASE_URL=\"https://plot.ly\";Plotly.newPlot(\"47b1eeb0-b977-4826-be7b-f965e4e4168b\", [{\"name\": \"accuracy\", \"x\": [0, 1, 2, 3, 4], \"y\": [0.9107692307692308, 0.908923076923077, 0.8935384615384615, 0.9150769230769231, 0.9113300492610837], \"type\": \"scatter\", \"uid\": \"2045c638-69b6-4e57-bd51-a92badc85e89\"}, {\"name\": \"recall\", \"x\": [0, 1, 2, 3, 4], \"y\": [0.9434416365824309, 0.9387019230769231, 0.9313253012048193, 0.9542857142857143, 0.9464285714285714], \"type\": \"scatter\", \"uid\": \"a39e7ecf-f13c-4178-bc1a-cf9e95aa194c\"}, {\"name\": \"precision\", \"x\": [0, 1, 2, 3, 4], \"y\": [0.8888888888888888, 0.8895216400911162, 0.8695163104611924, 0.894962486602358, 0.889261744966443], \"type\": \"scatter\", \"uid\": \"59f49d34-c577-4398-8b66-11270e5f3b05\"}], {\"yaxis\": {\"autorange\": true, \"rangemode\": \"tozero\"}}, {\"showLink\": true, \"linkText\": \"Export to plot.ly\"})});</script><script type=\"text/javascript\">window.addEventListener(\"resize\", function(){window._Plotly.Plots.resize(document.getElementById(\"47b1eeb0-b977-4826-be7b-f965e4e4168b\"));});</script>"
      ],
      "text/vnd.plotly.v1+html": [
       "<div id=\"47b1eeb0-b977-4826-be7b-f965e4e4168b\" style=\"height: 525px; width: 100%;\" class=\"plotly-graph-div\"></div><script type=\"text/javascript\">require([\"plotly\"], function(Plotly) { window.PLOTLYENV=window.PLOTLYENV || {};window.PLOTLYENV.BASE_URL=\"https://plot.ly\";Plotly.newPlot(\"47b1eeb0-b977-4826-be7b-f965e4e4168b\", [{\"name\": \"accuracy\", \"x\": [0, 1, 2, 3, 4], \"y\": [0.9107692307692308, 0.908923076923077, 0.8935384615384615, 0.9150769230769231, 0.9113300492610837], \"type\": \"scatter\", \"uid\": \"2045c638-69b6-4e57-bd51-a92badc85e89\"}, {\"name\": \"recall\", \"x\": [0, 1, 2, 3, 4], \"y\": [0.9434416365824309, 0.9387019230769231, 0.9313253012048193, 0.9542857142857143, 0.9464285714285714], \"type\": \"scatter\", \"uid\": \"a39e7ecf-f13c-4178-bc1a-cf9e95aa194c\"}, {\"name\": \"precision\", \"x\": [0, 1, 2, 3, 4], \"y\": [0.8888888888888888, 0.8895216400911162, 0.8695163104611924, 0.894962486602358, 0.889261744966443], \"type\": \"scatter\", \"uid\": \"59f49d34-c577-4398-8b66-11270e5f3b05\"}], {\"yaxis\": {\"autorange\": true, \"rangemode\": \"tozero\"}}, {\"showLink\": true, \"linkText\": \"Export to plot.ly\"})});</script><script type=\"text/javascript\">window.addEventListener(\"resize\", function(){window._Plotly.Plots.resize(document.getElementById(\"47b1eeb0-b977-4826-be7b-f965e4e4168b\"));});</script>"
      ]
     },
     "metadata": {},
     "output_type": "display_data"
    }
   ],
   "source": [
    "iplot(test_amount_features_kfold(6, clf_gaus, X, y), filename='Gaussian Naive Bayes metrics KFold')"
   ]
  },
  {
   "cell_type": "markdown",
   "metadata": {},
   "source": [
    "### Random Forest\n",
    "\n",
    "https://scikit-learn.org/stable/modules/generated/sklearn.ensemble.RandomForestClassifier.html"
   ]
  },
  {
   "cell_type": "code",
   "execution_count": 74,
   "metadata": {},
   "outputs": [
    {
     "data": {
      "application/vnd.plotly.v1+json": {
       "data": [
        {
         "name": "accuracy",
         "type": "scatter",
         "uid": "b88cbbbc-7b65-486c-876c-d019155388cb",
         "x": [
          1,
          2,
          3,
          4,
          5,
          6,
          7,
          8,
          9,
          10,
          11,
          12,
          13,
          14,
          15,
          16,
          17,
          18,
          19,
          20,
          21,
          22
         ],
         "y": [
          0.6519955240581873,
          0.8985453189108542,
          0.9686684073107049,
          0.9705333830660201,
          0.9705333830660201,
          0.9850801939574786,
          0.9861991794106677,
          0.9932860872808653,
          0.9962700484893696,
          0.9981350242446848,
          1,
          1,
          1,
          1,
          1,
          1,
          1,
          1,
          1,
          1,
          1,
          1
         ]
        },
        {
         "name": "recall",
         "type": "scatter",
         "uid": "3c96c488-1655-44c6-bed1-199f78d2e565",
         "x": [
          1,
          2,
          3,
          4,
          5,
          6,
          7,
          8,
          9,
          10,
          11,
          12,
          13,
          14,
          15,
          16,
          17,
          18,
          19,
          20,
          21,
          22
         ],
         "y": [
          0.8389891696750903,
          0.9018050541516246,
          1,
          0.9963898916967509,
          0.9963898916967509,
          0.9978339350180505,
          1,
          1,
          1,
          0.9978339350180505,
          1,
          1,
          1,
          1,
          1,
          1,
          1,
          1,
          1,
          1,
          1,
          1
         ]
        },
        {
         "name": "precision",
         "type": "scatter",
         "uid": "366a2dbe-8576-493a-9d7e-3b6d4722a3a1",
         "x": [
          1,
          2,
          3,
          4,
          5,
          6,
          7,
          8,
          9,
          10,
          11,
          12,
          13,
          14,
          15,
          16,
          17,
          18,
          19,
          20,
          21,
          22
         ],
         "y": [
          0.6207264957264957,
          0.9018050541516246,
          0.9428182437031994,
          0.9491059147180193,
          0.9491059147180193,
          0.9739252995066948,
          0.9739803094233473,
          0.9871703492516037,
          0.992831541218638,
          0.9985549132947977,
          1,
          1,
          1,
          1,
          1,
          1,
          1,
          1,
          1,
          1,
          1,
          1
         ]
        }
       ],
       "layout": {
        "yaxis": {
         "autorange": true,
         "rangemode": "tozero"
        }
       }
      },
      "text/html": [
       "<div id=\"20dadcf2-7084-4dc3-8d32-3ff1e122e6a4\" style=\"height: 525px; width: 100%;\" class=\"plotly-graph-div\"></div><script type=\"text/javascript\">require([\"plotly\"], function(Plotly) { window.PLOTLYENV=window.PLOTLYENV || {};window.PLOTLYENV.BASE_URL=\"https://plot.ly\";Plotly.newPlot(\"20dadcf2-7084-4dc3-8d32-3ff1e122e6a4\", [{\"name\": \"accuracy\", \"x\": [1, 2, 3, 4, 5, 6, 7, 8, 9, 10, 11, 12, 13, 14, 15, 16, 17, 18, 19, 20, 21, 22], \"y\": [0.6519955240581873, 0.8985453189108542, 0.9686684073107049, 0.9705333830660201, 0.9705333830660201, 0.9850801939574786, 0.9861991794106677, 0.9932860872808653, 0.9962700484893696, 0.9981350242446848, 1.0, 1.0, 1.0, 1.0, 1.0, 1.0, 1.0, 1.0, 1.0, 1.0, 1.0, 1.0], \"type\": \"scatter\", \"uid\": \"b88cbbbc-7b65-486c-876c-d019155388cb\"}, {\"name\": \"recall\", \"x\": [1, 2, 3, 4, 5, 6, 7, 8, 9, 10, 11, 12, 13, 14, 15, 16, 17, 18, 19, 20, 21, 22], \"y\": [0.8389891696750903, 0.9018050541516246, 1.0, 0.9963898916967509, 0.9963898916967509, 0.9978339350180505, 1.0, 1.0, 1.0, 0.9978339350180505, 1.0, 1.0, 1.0, 1.0, 1.0, 1.0, 1.0, 1.0, 1.0, 1.0, 1.0, 1.0], \"type\": \"scatter\", \"uid\": \"3c96c488-1655-44c6-bed1-199f78d2e565\"}, {\"name\": \"precision\", \"x\": [1, 2, 3, 4, 5, 6, 7, 8, 9, 10, 11, 12, 13, 14, 15, 16, 17, 18, 19, 20, 21, 22], \"y\": [0.6207264957264957, 0.9018050541516246, 0.9428182437031994, 0.9491059147180193, 0.9491059147180193, 0.9739252995066948, 0.9739803094233473, 0.9871703492516037, 0.992831541218638, 0.9985549132947977, 1.0, 1.0, 1.0, 1.0, 1.0, 1.0, 1.0, 1.0, 1.0, 1.0, 1.0, 1.0], \"type\": \"scatter\", \"uid\": \"366a2dbe-8576-493a-9d7e-3b6d4722a3a1\"}], {\"yaxis\": {\"autorange\": true, \"rangemode\": \"tozero\"}}, {\"showLink\": true, \"linkText\": \"Export to plot.ly\"})});</script><script type=\"text/javascript\">window.addEventListener(\"resize\", function(){window._Plotly.Plots.resize(document.getElementById(\"20dadcf2-7084-4dc3-8d32-3ff1e122e6a4\"));});</script>"
      ],
      "text/vnd.plotly.v1+html": [
       "<div id=\"20dadcf2-7084-4dc3-8d32-3ff1e122e6a4\" style=\"height: 525px; width: 100%;\" class=\"plotly-graph-div\"></div><script type=\"text/javascript\">require([\"plotly\"], function(Plotly) { window.PLOTLYENV=window.PLOTLYENV || {};window.PLOTLYENV.BASE_URL=\"https://plot.ly\";Plotly.newPlot(\"20dadcf2-7084-4dc3-8d32-3ff1e122e6a4\", [{\"name\": \"accuracy\", \"x\": [1, 2, 3, 4, 5, 6, 7, 8, 9, 10, 11, 12, 13, 14, 15, 16, 17, 18, 19, 20, 21, 22], \"y\": [0.6519955240581873, 0.8985453189108542, 0.9686684073107049, 0.9705333830660201, 0.9705333830660201, 0.9850801939574786, 0.9861991794106677, 0.9932860872808653, 0.9962700484893696, 0.9981350242446848, 1.0, 1.0, 1.0, 1.0, 1.0, 1.0, 1.0, 1.0, 1.0, 1.0, 1.0, 1.0], \"type\": \"scatter\", \"uid\": \"b88cbbbc-7b65-486c-876c-d019155388cb\"}, {\"name\": \"recall\", \"x\": [1, 2, 3, 4, 5, 6, 7, 8, 9, 10, 11, 12, 13, 14, 15, 16, 17, 18, 19, 20, 21, 22], \"y\": [0.8389891696750903, 0.9018050541516246, 1.0, 0.9963898916967509, 0.9963898916967509, 0.9978339350180505, 1.0, 1.0, 1.0, 0.9978339350180505, 1.0, 1.0, 1.0, 1.0, 1.0, 1.0, 1.0, 1.0, 1.0, 1.0, 1.0, 1.0], \"type\": \"scatter\", \"uid\": \"3c96c488-1655-44c6-bed1-199f78d2e565\"}, {\"name\": \"precision\", \"x\": [1, 2, 3, 4, 5, 6, 7, 8, 9, 10, 11, 12, 13, 14, 15, 16, 17, 18, 19, 20, 21, 22], \"y\": [0.6207264957264957, 0.9018050541516246, 0.9428182437031994, 0.9491059147180193, 0.9491059147180193, 0.9739252995066948, 0.9739803094233473, 0.9871703492516037, 0.992831541218638, 0.9985549132947977, 1.0, 1.0, 1.0, 1.0, 1.0, 1.0, 1.0, 1.0, 1.0, 1.0, 1.0, 1.0], \"type\": \"scatter\", \"uid\": \"366a2dbe-8576-493a-9d7e-3b6d4722a3a1\"}], {\"yaxis\": {\"autorange\": true, \"rangemode\": \"tozero\"}}, {\"showLink\": true, \"linkText\": \"Export to plot.ly\"})});</script><script type=\"text/javascript\">window.addEventListener(\"resize\", function(){window._Plotly.Plots.resize(document.getElementById(\"20dadcf2-7084-4dc3-8d32-3ff1e122e6a4\"));});</script>"
      ]
     },
     "metadata": {},
     "output_type": "display_data"
    }
   ],
   "source": [
    "from sklearn.ensemble import RandomForestClassifier\n",
    "\n",
    "clf_forest = RandomForestClassifier(n_estimators=100, random_state=33)\n",
    "iplot(test_different_features(22, clf_forest, X, y), filename='Random Forest metrics')"
   ]
  },
  {
   "cell_type": "code",
   "execution_count": 75,
   "metadata": {},
   "outputs": [
    {
     "data": {
      "application/vnd.plotly.v1+json": {
       "data": [
        {
         "name": "accuracy",
         "type": "scatter",
         "uid": "82e0fe98-764a-4e51-8e4e-6316c958772f",
         "x": [
          0,
          1,
          2,
          3,
          4
         ],
         "y": [
          0.9975384615384615,
          0.9993846153846154,
          0.9932307692307693,
          1,
          0.9975369458128078
         ]
        },
        {
         "name": "recall",
         "type": "scatter",
         "uid": "19b41c56-c209-4f0f-a1bd-754711133aff",
         "x": [
          0,
          1,
          2,
          3,
          4
         ],
         "y": [
          0.9963898916967509,
          1,
          0.9951807228915662,
          1,
          0.9988095238095238
         ]
        },
        {
         "name": "precision",
         "type": "scatter",
         "uid": "6893dc91-fe1b-4531-95da-973e8f17a1c7",
         "x": [
          0,
          1,
          2,
          3,
          4
         ],
         "y": [
          0.9987937273823885,
          0.9987995198079231,
          0.9915966386554622,
          1,
          0.996437054631829
         ]
        }
       ],
       "layout": {
        "yaxis": {
         "autorange": true,
         "rangemode": "tozero"
        }
       }
      },
      "text/html": [
       "<div id=\"4a3e0289-d53c-4d8b-8ee3-faf5babe3267\" style=\"height: 525px; width: 100%;\" class=\"plotly-graph-div\"></div><script type=\"text/javascript\">require([\"plotly\"], function(Plotly) { window.PLOTLYENV=window.PLOTLYENV || {};window.PLOTLYENV.BASE_URL=\"https://plot.ly\";Plotly.newPlot(\"4a3e0289-d53c-4d8b-8ee3-faf5babe3267\", [{\"name\": \"accuracy\", \"x\": [0, 1, 2, 3, 4], \"y\": [0.9975384615384615, 0.9993846153846154, 0.9932307692307693, 1.0, 0.9975369458128078], \"type\": \"scatter\", \"uid\": \"82e0fe98-764a-4e51-8e4e-6316c958772f\"}, {\"name\": \"recall\", \"x\": [0, 1, 2, 3, 4], \"y\": [0.9963898916967509, 1.0, 0.9951807228915662, 1.0, 0.9988095238095238], \"type\": \"scatter\", \"uid\": \"19b41c56-c209-4f0f-a1bd-754711133aff\"}, {\"name\": \"precision\", \"x\": [0, 1, 2, 3, 4], \"y\": [0.9987937273823885, 0.9987995198079231, 0.9915966386554622, 1.0, 0.996437054631829], \"type\": \"scatter\", \"uid\": \"6893dc91-fe1b-4531-95da-973e8f17a1c7\"}], {\"yaxis\": {\"autorange\": true, \"rangemode\": \"tozero\"}}, {\"showLink\": true, \"linkText\": \"Export to plot.ly\"})});</script><script type=\"text/javascript\">window.addEventListener(\"resize\", function(){window._Plotly.Plots.resize(document.getElementById(\"4a3e0289-d53c-4d8b-8ee3-faf5babe3267\"));});</script>"
      ],
      "text/vnd.plotly.v1+html": [
       "<div id=\"4a3e0289-d53c-4d8b-8ee3-faf5babe3267\" style=\"height: 525px; width: 100%;\" class=\"plotly-graph-div\"></div><script type=\"text/javascript\">require([\"plotly\"], function(Plotly) { window.PLOTLYENV=window.PLOTLYENV || {};window.PLOTLYENV.BASE_URL=\"https://plot.ly\";Plotly.newPlot(\"4a3e0289-d53c-4d8b-8ee3-faf5babe3267\", [{\"name\": \"accuracy\", \"x\": [0, 1, 2, 3, 4], \"y\": [0.9975384615384615, 0.9993846153846154, 0.9932307692307693, 1.0, 0.9975369458128078], \"type\": \"scatter\", \"uid\": \"82e0fe98-764a-4e51-8e4e-6316c958772f\"}, {\"name\": \"recall\", \"x\": [0, 1, 2, 3, 4], \"y\": [0.9963898916967509, 1.0, 0.9951807228915662, 1.0, 0.9988095238095238], \"type\": \"scatter\", \"uid\": \"19b41c56-c209-4f0f-a1bd-754711133aff\"}, {\"name\": \"precision\", \"x\": [0, 1, 2, 3, 4], \"y\": [0.9987937273823885, 0.9987995198079231, 0.9915966386554622, 1.0, 0.996437054631829], \"type\": \"scatter\", \"uid\": \"6893dc91-fe1b-4531-95da-973e8f17a1c7\"}], {\"yaxis\": {\"autorange\": true, \"rangemode\": \"tozero\"}}, {\"showLink\": true, \"linkText\": \"Export to plot.ly\"})});</script><script type=\"text/javascript\">window.addEventListener(\"resize\", function(){window._Plotly.Plots.resize(document.getElementById(\"4a3e0289-d53c-4d8b-8ee3-faf5babe3267\"));});</script>"
      ]
     },
     "metadata": {},
     "output_type": "display_data"
    }
   ],
   "source": [
    "iplot(test_amount_features_kfold(10, clf_forest, X, y), filename='Random Forest metrics KFold')"
   ]
  },
  {
   "cell_type": "markdown",
   "metadata": {},
   "source": [
    "### Neural Network\n",
    "\n",
    "https://scikit-learn.org/stable/modules/neural_networks_supervised.html\n",
    "\n",
    "https://scikit-learn.org/stable/modules/generated/sklearn.neural_network.MLPClassifier.html#sklearn.neural_network.MLPClassifier"
   ]
  },
  {
   "cell_type": "code",
   "execution_count": 76,
   "metadata": {},
   "outputs": [
    {
     "data": {
      "application/vnd.plotly.v1+json": {
       "data": [
        {
         "name": "accuracy",
         "type": "scatter",
         "uid": "b8be7497-5533-432d-a068-77819748bd9b",
         "x": [
          1,
          2,
          3,
          4,
          5,
          6,
          7,
          8,
          9,
          10,
          11,
          12,
          13,
          14,
          15,
          16,
          17,
          18,
          19,
          20,
          21,
          22
         ],
         "y": [
          0.6519955240581873,
          0.8985453189108542,
          0.9686684073107049,
          0.9701603879149571,
          0.9664304364043268,
          0.9806042521447221,
          0.9861991794106677,
          0.9932860872808653,
          0.9962700484893696,
          0.9944050727340544,
          0.9977620290936218,
          0.9977620290936218,
          0.9977620290936218,
          1,
          1,
          1,
          1,
          1,
          1,
          1,
          1,
          1
         ]
        },
        {
         "name": "recall",
         "type": "scatter",
         "uid": "a8cba737-00d9-4545-9652-b25640a9f731",
         "x": [
          1,
          2,
          3,
          4,
          5,
          6,
          7,
          8,
          9,
          10,
          11,
          12,
          13,
          14,
          15,
          16,
          17,
          18,
          19,
          20,
          21,
          22
         ],
         "y": [
          0.8389891696750903,
          0.9018050541516246,
          1,
          0.9963898916967509,
          0.9963898916967509,
          0.9978339350180505,
          1,
          1,
          1,
          0.9978339350180505,
          1,
          1,
          1,
          1,
          1,
          1,
          1,
          1,
          1,
          1,
          1,
          1
         ]
        },
        {
         "name": "precision",
         "type": "scatter",
         "uid": "373b54ca-f219-4409-831c-56438c5632e4",
         "x": [
          1,
          2,
          3,
          4,
          5,
          6,
          7,
          8,
          9,
          10,
          11,
          12,
          13,
          14,
          15,
          16,
          17,
          18,
          19,
          20,
          21,
          22
         ],
         "y": [
          0.6207264957264957,
          0.9018050541516246,
          0.9428182437031994,
          0.9484536082474226,
          0.9419795221843004,
          0.9657582110412299,
          0.9739803094233473,
          0.9871703492516037,
          0.992831541218638,
          0.9913916786226685,
          0.99568655643422,
          0.99568655643422,
          0.99568655643422,
          1,
          1,
          1,
          1,
          1,
          1,
          1,
          1,
          1
         ]
        }
       ],
       "layout": {
        "yaxis": {
         "autorange": true,
         "rangemode": "tozero"
        }
       }
      },
      "text/html": [
       "<div id=\"cd7a3ca1-32d0-4b05-8f9d-ffef266a3473\" style=\"height: 525px; width: 100%;\" class=\"plotly-graph-div\"></div><script type=\"text/javascript\">require([\"plotly\"], function(Plotly) { window.PLOTLYENV=window.PLOTLYENV || {};window.PLOTLYENV.BASE_URL=\"https://plot.ly\";Plotly.newPlot(\"cd7a3ca1-32d0-4b05-8f9d-ffef266a3473\", [{\"name\": \"accuracy\", \"x\": [1, 2, 3, 4, 5, 6, 7, 8, 9, 10, 11, 12, 13, 14, 15, 16, 17, 18, 19, 20, 21, 22], \"y\": [0.6519955240581873, 0.8985453189108542, 0.9686684073107049, 0.9701603879149571, 0.9664304364043268, 0.9806042521447221, 0.9861991794106677, 0.9932860872808653, 0.9962700484893696, 0.9944050727340544, 0.9977620290936218, 0.9977620290936218, 0.9977620290936218, 1.0, 1.0, 1.0, 1.0, 1.0, 1.0, 1.0, 1.0, 1.0], \"type\": \"scatter\", \"uid\": \"b8be7497-5533-432d-a068-77819748bd9b\"}, {\"name\": \"recall\", \"x\": [1, 2, 3, 4, 5, 6, 7, 8, 9, 10, 11, 12, 13, 14, 15, 16, 17, 18, 19, 20, 21, 22], \"y\": [0.8389891696750903, 0.9018050541516246, 1.0, 0.9963898916967509, 0.9963898916967509, 0.9978339350180505, 1.0, 1.0, 1.0, 0.9978339350180505, 1.0, 1.0, 1.0, 1.0, 1.0, 1.0, 1.0, 1.0, 1.0, 1.0, 1.0, 1.0], \"type\": \"scatter\", \"uid\": \"a8cba737-00d9-4545-9652-b25640a9f731\"}, {\"name\": \"precision\", \"x\": [1, 2, 3, 4, 5, 6, 7, 8, 9, 10, 11, 12, 13, 14, 15, 16, 17, 18, 19, 20, 21, 22], \"y\": [0.6207264957264957, 0.9018050541516246, 0.9428182437031994, 0.9484536082474226, 0.9419795221843004, 0.9657582110412299, 0.9739803094233473, 0.9871703492516037, 0.992831541218638, 0.9913916786226685, 0.99568655643422, 0.99568655643422, 0.99568655643422, 1.0, 1.0, 1.0, 1.0, 1.0, 1.0, 1.0, 1.0, 1.0], \"type\": \"scatter\", \"uid\": \"373b54ca-f219-4409-831c-56438c5632e4\"}], {\"yaxis\": {\"autorange\": true, \"rangemode\": \"tozero\"}}, {\"showLink\": true, \"linkText\": \"Export to plot.ly\"})});</script><script type=\"text/javascript\">window.addEventListener(\"resize\", function(){window._Plotly.Plots.resize(document.getElementById(\"cd7a3ca1-32d0-4b05-8f9d-ffef266a3473\"));});</script>"
      ],
      "text/vnd.plotly.v1+html": [
       "<div id=\"cd7a3ca1-32d0-4b05-8f9d-ffef266a3473\" style=\"height: 525px; width: 100%;\" class=\"plotly-graph-div\"></div><script type=\"text/javascript\">require([\"plotly\"], function(Plotly) { window.PLOTLYENV=window.PLOTLYENV || {};window.PLOTLYENV.BASE_URL=\"https://plot.ly\";Plotly.newPlot(\"cd7a3ca1-32d0-4b05-8f9d-ffef266a3473\", [{\"name\": \"accuracy\", \"x\": [1, 2, 3, 4, 5, 6, 7, 8, 9, 10, 11, 12, 13, 14, 15, 16, 17, 18, 19, 20, 21, 22], \"y\": [0.6519955240581873, 0.8985453189108542, 0.9686684073107049, 0.9701603879149571, 0.9664304364043268, 0.9806042521447221, 0.9861991794106677, 0.9932860872808653, 0.9962700484893696, 0.9944050727340544, 0.9977620290936218, 0.9977620290936218, 0.9977620290936218, 1.0, 1.0, 1.0, 1.0, 1.0, 1.0, 1.0, 1.0, 1.0], \"type\": \"scatter\", \"uid\": \"b8be7497-5533-432d-a068-77819748bd9b\"}, {\"name\": \"recall\", \"x\": [1, 2, 3, 4, 5, 6, 7, 8, 9, 10, 11, 12, 13, 14, 15, 16, 17, 18, 19, 20, 21, 22], \"y\": [0.8389891696750903, 0.9018050541516246, 1.0, 0.9963898916967509, 0.9963898916967509, 0.9978339350180505, 1.0, 1.0, 1.0, 0.9978339350180505, 1.0, 1.0, 1.0, 1.0, 1.0, 1.0, 1.0, 1.0, 1.0, 1.0, 1.0, 1.0], \"type\": \"scatter\", \"uid\": \"a8cba737-00d9-4545-9652-b25640a9f731\"}, {\"name\": \"precision\", \"x\": [1, 2, 3, 4, 5, 6, 7, 8, 9, 10, 11, 12, 13, 14, 15, 16, 17, 18, 19, 20, 21, 22], \"y\": [0.6207264957264957, 0.9018050541516246, 0.9428182437031994, 0.9484536082474226, 0.9419795221843004, 0.9657582110412299, 0.9739803094233473, 0.9871703492516037, 0.992831541218638, 0.9913916786226685, 0.99568655643422, 0.99568655643422, 0.99568655643422, 1.0, 1.0, 1.0, 1.0, 1.0, 1.0, 1.0, 1.0, 1.0], \"type\": \"scatter\", \"uid\": \"373b54ca-f219-4409-831c-56438c5632e4\"}], {\"yaxis\": {\"autorange\": true, \"rangemode\": \"tozero\"}}, {\"showLink\": true, \"linkText\": \"Export to plot.ly\"})});</script><script type=\"text/javascript\">window.addEventListener(\"resize\", function(){window._Plotly.Plots.resize(document.getElementById(\"cd7a3ca1-32d0-4b05-8f9d-ffef266a3473\"));});</script>"
      ]
     },
     "metadata": {},
     "output_type": "display_data"
    }
   ],
   "source": [
    "from sklearn.neural_network import MLPClassifier\n",
    "import warnings\n",
    "\n",
    "clf_nn = MLPClassifier(solver='adam', \n",
    "                    alpha=0.001, \n",
    "                    learning_rate_init = 0.001,\n",
    "                    hidden_layer_sizes=(200, 140, 40), \n",
    "                    random_state=33)\n",
    "\n",
    "iplot(test_different_features(22, clf_nn, X, y), filename='Neural Network metrics')"
   ]
  },
  {
   "cell_type": "code",
   "execution_count": 77,
   "metadata": {},
   "outputs": [
    {
     "data": {
      "application/vnd.plotly.v1+json": {
       "data": [
        {
         "name": "accuracy",
         "type": "scatter",
         "uid": "276a9c1d-de1c-4d3d-ab3a-5aba4f80d418",
         "x": [
          0,
          1,
          2,
          3,
          4
         ],
         "y": [
          0.9975384615384615,
          0.9993846153846154,
          0.9932307692307693,
          0.9993846153846154,
          0.9975369458128078
         ]
        },
        {
         "name": "recall",
         "type": "scatter",
         "uid": "fbbd33a0-a315-4663-bbe8-c4d3457db9d6",
         "x": [
          0,
          1,
          2,
          3,
          4
         ],
         "y": [
          0.9963898916967509,
          1,
          0.9951807228915662,
          1,
          0.9988095238095238
         ]
        },
        {
         "name": "precision",
         "type": "scatter",
         "uid": "3084fe54-1c39-47cf-a4e5-5318398e4b3f",
         "x": [
          0,
          1,
          2,
          3,
          4
         ],
         "y": [
          0.9987937273823885,
          0.9987995198079231,
          0.9915966386554622,
          0.9988584474885844,
          0.996437054631829
         ]
        }
       ],
       "layout": {
        "yaxis": {
         "autorange": true,
         "rangemode": "tozero"
        }
       }
      },
      "text/html": [
       "<div id=\"7e9cbb1c-a955-4062-ac52-b21ccf084572\" style=\"height: 525px; width: 100%;\" class=\"plotly-graph-div\"></div><script type=\"text/javascript\">require([\"plotly\"], function(Plotly) { window.PLOTLYENV=window.PLOTLYENV || {};window.PLOTLYENV.BASE_URL=\"https://plot.ly\";Plotly.newPlot(\"7e9cbb1c-a955-4062-ac52-b21ccf084572\", [{\"name\": \"accuracy\", \"x\": [0, 1, 2, 3, 4], \"y\": [0.9975384615384615, 0.9993846153846154, 0.9932307692307693, 0.9993846153846154, 0.9975369458128078], \"type\": \"scatter\", \"uid\": \"276a9c1d-de1c-4d3d-ab3a-5aba4f80d418\"}, {\"name\": \"recall\", \"x\": [0, 1, 2, 3, 4], \"y\": [0.9963898916967509, 1.0, 0.9951807228915662, 1.0, 0.9988095238095238], \"type\": \"scatter\", \"uid\": \"fbbd33a0-a315-4663-bbe8-c4d3457db9d6\"}, {\"name\": \"precision\", \"x\": [0, 1, 2, 3, 4], \"y\": [0.9987937273823885, 0.9987995198079231, 0.9915966386554622, 0.9988584474885844, 0.996437054631829], \"type\": \"scatter\", \"uid\": \"3084fe54-1c39-47cf-a4e5-5318398e4b3f\"}], {\"yaxis\": {\"autorange\": true, \"rangemode\": \"tozero\"}}, {\"showLink\": true, \"linkText\": \"Export to plot.ly\"})});</script><script type=\"text/javascript\">window.addEventListener(\"resize\", function(){window._Plotly.Plots.resize(document.getElementById(\"7e9cbb1c-a955-4062-ac52-b21ccf084572\"));});</script>"
      ],
      "text/vnd.plotly.v1+html": [
       "<div id=\"7e9cbb1c-a955-4062-ac52-b21ccf084572\" style=\"height: 525px; width: 100%;\" class=\"plotly-graph-div\"></div><script type=\"text/javascript\">require([\"plotly\"], function(Plotly) { window.PLOTLYENV=window.PLOTLYENV || {};window.PLOTLYENV.BASE_URL=\"https://plot.ly\";Plotly.newPlot(\"7e9cbb1c-a955-4062-ac52-b21ccf084572\", [{\"name\": \"accuracy\", \"x\": [0, 1, 2, 3, 4], \"y\": [0.9975384615384615, 0.9993846153846154, 0.9932307692307693, 0.9993846153846154, 0.9975369458128078], \"type\": \"scatter\", \"uid\": \"276a9c1d-de1c-4d3d-ab3a-5aba4f80d418\"}, {\"name\": \"recall\", \"x\": [0, 1, 2, 3, 4], \"y\": [0.9963898916967509, 1.0, 0.9951807228915662, 1.0, 0.9988095238095238], \"type\": \"scatter\", \"uid\": \"fbbd33a0-a315-4663-bbe8-c4d3457db9d6\"}, {\"name\": \"precision\", \"x\": [0, 1, 2, 3, 4], \"y\": [0.9987937273823885, 0.9987995198079231, 0.9915966386554622, 0.9988584474885844, 0.996437054631829], \"type\": \"scatter\", \"uid\": \"3084fe54-1c39-47cf-a4e5-5318398e4b3f\"}], {\"yaxis\": {\"autorange\": true, \"rangemode\": \"tozero\"}}, {\"showLink\": true, \"linkText\": \"Export to plot.ly\"})});</script><script type=\"text/javascript\">window.addEventListener(\"resize\", function(){window._Plotly.Plots.resize(document.getElementById(\"7e9cbb1c-a955-4062-ac52-b21ccf084572\"));});</script>"
      ]
     },
     "metadata": {},
     "output_type": "display_data"
    }
   ],
   "source": [
    "iplot(test_amount_features_kfold(10, clf_nn, X, y), filename='Neural Network metrics KFold')"
   ]
  },
  {
   "cell_type": "markdown",
   "metadata": {},
   "source": [
    "### KMeans clustering\n",
    "\n",
    "https://scikit-learn.org/stable/modules/generated/sklearn.cluster.KMeans.html"
   ]
  },
  {
   "cell_type": "code",
   "execution_count": 78,
   "metadata": {},
   "outputs": [
    {
     "data": {
      "application/vnd.plotly.v1+json": {
       "data": [
        {
         "name": "accuracy",
         "type": "scatter",
         "uid": "05c1fa11-29d6-4ff2-8170-f4ed80f52688",
         "x": [
          1,
          2,
          3,
          4,
          5,
          6,
          7,
          8,
          9,
          10,
          11,
          12,
          13,
          14,
          15,
          16,
          17,
          18,
          19,
          20,
          21,
          22
         ],
         "y": [
          0.6519955240581873,
          0.6769861991794107,
          0.7407683700111899,
          0.7195076464005968,
          0.7288325251771727,
          0.7269675494218575,
          0.7142857142857143,
          0.7284595300261096,
          0.7597911227154047,
          0.7650130548302873,
          0.7568071615069004,
          0.7556881760537113,
          0.7582991421111526,
          0.7131667288325252,
          0.7168966803431556,
          0.7168966803431556,
          0.7195076464005968,
          0.5710555762775084,
          0.5736665423349496,
          0.5736665423349496,
          0.5736665423349496,
          0.5736665423349496
         ]
        },
        {
         "name": "recall",
         "type": "scatter",
         "uid": "3cad4fbf-ab6e-4ebb-b91d-55c08b36126e",
         "x": [
          1,
          2,
          3,
          4,
          5,
          6,
          7,
          8,
          9,
          10,
          11,
          12,
          13,
          14,
          15,
          16,
          17,
          18,
          19,
          20,
          21,
          22
         ],
         "y": [
          0.8389891696750903,
          0.8945848375451263,
          0.6534296028880866,
          0.9595667870036101,
          0.9812274368231046,
          0.9776173285198556,
          0.9595667870036101,
          0.9870036101083033,
          0.7090252707581227,
          0.7090252707581227,
          0.7032490974729242,
          0.7032490974729242,
          0.7104693140794224,
          0.9574007220216606,
          0.9646209386281589,
          0.9646209386281589,
          0.9696750902527076,
          0.6808664259927798,
          0.6859205776173285,
          0.6859205776173285,
          0.6859205776173285,
          0.6859205776173285
         ]
        },
        {
         "name": "precision",
         "type": "scatter",
         "uid": "c39a39bf-f904-47ae-8cda-cc29716e38d0",
         "x": [
          1,
          2,
          3,
          4,
          5,
          6,
          7,
          8,
          9,
          10,
          11,
          12,
          13,
          14,
          15,
          16,
          17,
          18,
          19,
          20,
          21,
          22
         ],
         "y": [
          0.6207264957264957,
          0.6324655436447167,
          0.8080357142857143,
          0.6562962962962963,
          0.6597087378640777,
          0.6588807785888078,
          0.6517900931829328,
          0.6581608088589311,
          0.802943581357318,
          0.8122415219189413,
          0.8016460905349794,
          0.7996715927750411,
          0.7993501218521527,
          0.6512770137524558,
          0.6529814271749755,
          0.6529814271749755,
          0.654164637116415,
          0.5711689884918232,
          0.5729794933655006,
          0.5729794933655006,
          0.5729794933655006,
          0.5729794933655006
         ]
        }
       ],
       "layout": {
        "yaxis": {
         "autorange": true,
         "rangemode": "tozero"
        }
       }
      },
      "text/html": [
       "<div id=\"4be40901-5345-4108-a464-319fc102bab2\" style=\"height: 525px; width: 100%;\" class=\"plotly-graph-div\"></div><script type=\"text/javascript\">require([\"plotly\"], function(Plotly) { window.PLOTLYENV=window.PLOTLYENV || {};window.PLOTLYENV.BASE_URL=\"https://plot.ly\";Plotly.newPlot(\"4be40901-5345-4108-a464-319fc102bab2\", [{\"name\": \"accuracy\", \"x\": [1, 2, 3, 4, 5, 6, 7, 8, 9, 10, 11, 12, 13, 14, 15, 16, 17, 18, 19, 20, 21, 22], \"y\": [0.6519955240581873, 0.6769861991794107, 0.7407683700111899, 0.7195076464005968, 0.7288325251771727, 0.7269675494218575, 0.7142857142857143, 0.7284595300261096, 0.7597911227154047, 0.7650130548302873, 0.7568071615069004, 0.7556881760537113, 0.7582991421111526, 0.7131667288325252, 0.7168966803431556, 0.7168966803431556, 0.7195076464005968, 0.5710555762775084, 0.5736665423349496, 0.5736665423349496, 0.5736665423349496, 0.5736665423349496], \"type\": \"scatter\", \"uid\": \"05c1fa11-29d6-4ff2-8170-f4ed80f52688\"}, {\"name\": \"recall\", \"x\": [1, 2, 3, 4, 5, 6, 7, 8, 9, 10, 11, 12, 13, 14, 15, 16, 17, 18, 19, 20, 21, 22], \"y\": [0.8389891696750903, 0.8945848375451263, 0.6534296028880866, 0.9595667870036101, 0.9812274368231046, 0.9776173285198556, 0.9595667870036101, 0.9870036101083033, 0.7090252707581227, 0.7090252707581227, 0.7032490974729242, 0.7032490974729242, 0.7104693140794224, 0.9574007220216606, 0.9646209386281589, 0.9646209386281589, 0.9696750902527076, 0.6808664259927798, 0.6859205776173285, 0.6859205776173285, 0.6859205776173285, 0.6859205776173285], \"type\": \"scatter\", \"uid\": \"3cad4fbf-ab6e-4ebb-b91d-55c08b36126e\"}, {\"name\": \"precision\", \"x\": [1, 2, 3, 4, 5, 6, 7, 8, 9, 10, 11, 12, 13, 14, 15, 16, 17, 18, 19, 20, 21, 22], \"y\": [0.6207264957264957, 0.6324655436447167, 0.8080357142857143, 0.6562962962962963, 0.6597087378640777, 0.6588807785888078, 0.6517900931829328, 0.6581608088589311, 0.802943581357318, 0.8122415219189413, 0.8016460905349794, 0.7996715927750411, 0.7993501218521527, 0.6512770137524558, 0.6529814271749755, 0.6529814271749755, 0.654164637116415, 0.5711689884918232, 0.5729794933655006, 0.5729794933655006, 0.5729794933655006, 0.5729794933655006], \"type\": \"scatter\", \"uid\": \"c39a39bf-f904-47ae-8cda-cc29716e38d0\"}], {\"yaxis\": {\"autorange\": true, \"rangemode\": \"tozero\"}}, {\"showLink\": true, \"linkText\": \"Export to plot.ly\"})});</script><script type=\"text/javascript\">window.addEventListener(\"resize\", function(){window._Plotly.Plots.resize(document.getElementById(\"4be40901-5345-4108-a464-319fc102bab2\"));});</script>"
      ],
      "text/vnd.plotly.v1+html": [
       "<div id=\"4be40901-5345-4108-a464-319fc102bab2\" style=\"height: 525px; width: 100%;\" class=\"plotly-graph-div\"></div><script type=\"text/javascript\">require([\"plotly\"], function(Plotly) { window.PLOTLYENV=window.PLOTLYENV || {};window.PLOTLYENV.BASE_URL=\"https://plot.ly\";Plotly.newPlot(\"4be40901-5345-4108-a464-319fc102bab2\", [{\"name\": \"accuracy\", \"x\": [1, 2, 3, 4, 5, 6, 7, 8, 9, 10, 11, 12, 13, 14, 15, 16, 17, 18, 19, 20, 21, 22], \"y\": [0.6519955240581873, 0.6769861991794107, 0.7407683700111899, 0.7195076464005968, 0.7288325251771727, 0.7269675494218575, 0.7142857142857143, 0.7284595300261096, 0.7597911227154047, 0.7650130548302873, 0.7568071615069004, 0.7556881760537113, 0.7582991421111526, 0.7131667288325252, 0.7168966803431556, 0.7168966803431556, 0.7195076464005968, 0.5710555762775084, 0.5736665423349496, 0.5736665423349496, 0.5736665423349496, 0.5736665423349496], \"type\": \"scatter\", \"uid\": \"05c1fa11-29d6-4ff2-8170-f4ed80f52688\"}, {\"name\": \"recall\", \"x\": [1, 2, 3, 4, 5, 6, 7, 8, 9, 10, 11, 12, 13, 14, 15, 16, 17, 18, 19, 20, 21, 22], \"y\": [0.8389891696750903, 0.8945848375451263, 0.6534296028880866, 0.9595667870036101, 0.9812274368231046, 0.9776173285198556, 0.9595667870036101, 0.9870036101083033, 0.7090252707581227, 0.7090252707581227, 0.7032490974729242, 0.7032490974729242, 0.7104693140794224, 0.9574007220216606, 0.9646209386281589, 0.9646209386281589, 0.9696750902527076, 0.6808664259927798, 0.6859205776173285, 0.6859205776173285, 0.6859205776173285, 0.6859205776173285], \"type\": \"scatter\", \"uid\": \"3cad4fbf-ab6e-4ebb-b91d-55c08b36126e\"}, {\"name\": \"precision\", \"x\": [1, 2, 3, 4, 5, 6, 7, 8, 9, 10, 11, 12, 13, 14, 15, 16, 17, 18, 19, 20, 21, 22], \"y\": [0.6207264957264957, 0.6324655436447167, 0.8080357142857143, 0.6562962962962963, 0.6597087378640777, 0.6588807785888078, 0.6517900931829328, 0.6581608088589311, 0.802943581357318, 0.8122415219189413, 0.8016460905349794, 0.7996715927750411, 0.7993501218521527, 0.6512770137524558, 0.6529814271749755, 0.6529814271749755, 0.654164637116415, 0.5711689884918232, 0.5729794933655006, 0.5729794933655006, 0.5729794933655006, 0.5729794933655006], \"type\": \"scatter\", \"uid\": \"c39a39bf-f904-47ae-8cda-cc29716e38d0\"}], {\"yaxis\": {\"autorange\": true, \"rangemode\": \"tozero\"}}, {\"showLink\": true, \"linkText\": \"Export to plot.ly\"})});</script><script type=\"text/javascript\">window.addEventListener(\"resize\", function(){window._Plotly.Plots.resize(document.getElementById(\"4be40901-5345-4108-a464-319fc102bab2\"));});</script>"
      ]
     },
     "metadata": {},
     "output_type": "display_data"
    }
   ],
   "source": [
    "from sklearn.cluster import KMeans\n",
    "\n",
    "clf_kmeans = KMeans(n_clusters=2, random_state=33, n_jobs=-1)\n",
    "\n",
    "iplot(test_different_features(22, clf_kmeans, X, y, scale=True, \n",
    "                                 clustering=False, flip_labels=True), \n",
    "         filename='Kmeans clustering metrics')"
   ]
  },
  {
   "cell_type": "markdown",
   "metadata": {},
   "source": [
    "### Agglomerative clustering\n",
    "\n",
    "https://scikit-learn.org/stable/modules/generated/sklearn.cluster.AgglomerativeClustering.html"
   ]
  },
  {
   "cell_type": "code",
   "execution_count": 79,
   "metadata": {},
   "outputs": [
    {
     "data": {
      "application/vnd.plotly.v1+json": {
       "data": [
        {
         "name": "accuracy",
         "type": "scatter",
         "uid": "be26c46d-cfe7-4427-bc9d-b83346cea67a",
         "x": [
          1,
          2,
          3,
          4,
          5,
          6,
          7,
          8,
          9,
          10,
          11,
          12,
          13,
          14,
          15,
          16,
          17,
          18,
          19,
          20,
          21,
          22
         ],
         "y": [
          0.6459871984244214,
          0.6459871984244214,
          0.7203348104382078,
          0.7306745445593303,
          0.7306745445593303,
          0.7306745445593303,
          0.7287050713934022,
          0.7291974396848843,
          0.7380600689315608,
          0.7287050713934022,
          0.7380600689315608,
          0.7543082225504677,
          0.7543082225504677,
          0.7287050713934022,
          0.7306745445593303,
          0.7306745445593303,
          0.7306745445593303,
          0.7306745445593303,
          0.7306745445593303,
          0.7306745445593303,
          0.7306745445593303,
          0.7306745445593303
         ]
        },
        {
         "name": "recall",
         "type": "scatter",
         "uid": "73ddd502-4826-4b91-a0b6-60af3364085a",
         "x": [
          1,
          2,
          3,
          4,
          5,
          6,
          7,
          8,
          9,
          10,
          11,
          12,
          13,
          14,
          15,
          16,
          17,
          18,
          19,
          20,
          21,
          22
         ],
         "y": [
          0.8288973384030418,
          0.8288973384030418,
          0.6083650190114068,
          1,
          1,
          1,
          0.9885931558935361,
          0.997148288973384,
          0.6349809885931559,
          0.9885931558935361,
          0.6349809885931559,
          0.7262357414448669,
          0.7262357414448669,
          0.9885931558935361,
          1,
          1,
          1,
          1,
          1,
          1,
          1,
          1
         ]
        },
        {
         "name": "precision",
         "type": "scatter",
         "uid": "7bbe8fa5-7c81-4725-8e6f-fed614c2ecc9",
         "x": [
          1,
          2,
          3,
          4,
          5,
          6,
          7,
          8,
          9,
          10,
          11,
          12,
          13,
          14,
          15,
          16,
          17,
          18,
          19,
          20,
          21,
          22
         ],
         "y": [
          0.6180014174344437,
          0.6180014174344437,
          0.8040201005025126,
          0.6579111944965603,
          0.6579111944965603,
          0.6579111944965603,
          0.6586447118429386,
          0.6572681704260651,
          0.8186274509803921,
          0.6586447118429386,
          0.8186274509803921,
          0.7835897435897435,
          0.7835897435897435,
          0.6586447118429386,
          0.6579111944965603,
          0.6579111944965603,
          0.6579111944965603,
          0.6579111944965603,
          0.6579111944965603,
          0.6579111944965603,
          0.6579111944965603,
          0.6579111944965603
         ]
        }
       ],
       "layout": {
        "yaxis": {
         "autorange": true,
         "rangemode": "tozero"
        }
       }
      },
      "text/html": [
       "<div id=\"fff7d0c4-d675-4aed-ac2e-119b0c1428d2\" style=\"height: 525px; width: 100%;\" class=\"plotly-graph-div\"></div><script type=\"text/javascript\">require([\"plotly\"], function(Plotly) { window.PLOTLYENV=window.PLOTLYENV || {};window.PLOTLYENV.BASE_URL=\"https://plot.ly\";Plotly.newPlot(\"fff7d0c4-d675-4aed-ac2e-119b0c1428d2\", [{\"name\": \"accuracy\", \"x\": [1, 2, 3, 4, 5, 6, 7, 8, 9, 10, 11, 12, 13, 14, 15, 16, 17, 18, 19, 20, 21, 22], \"y\": [0.6459871984244214, 0.6459871984244214, 0.7203348104382078, 0.7306745445593303, 0.7306745445593303, 0.7306745445593303, 0.7287050713934022, 0.7291974396848843, 0.7380600689315608, 0.7287050713934022, 0.7380600689315608, 0.7543082225504677, 0.7543082225504677, 0.7287050713934022, 0.7306745445593303, 0.7306745445593303, 0.7306745445593303, 0.7306745445593303, 0.7306745445593303, 0.7306745445593303, 0.7306745445593303, 0.7306745445593303], \"type\": \"scatter\", \"uid\": \"be26c46d-cfe7-4427-bc9d-b83346cea67a\"}, {\"name\": \"recall\", \"x\": [1, 2, 3, 4, 5, 6, 7, 8, 9, 10, 11, 12, 13, 14, 15, 16, 17, 18, 19, 20, 21, 22], \"y\": [0.8288973384030418, 0.8288973384030418, 0.6083650190114068, 1.0, 1.0, 1.0, 0.9885931558935361, 0.997148288973384, 0.6349809885931559, 0.9885931558935361, 0.6349809885931559, 0.7262357414448669, 0.7262357414448669, 0.9885931558935361, 1.0, 1.0, 1.0, 1.0, 1.0, 1.0, 1.0, 1.0], \"type\": \"scatter\", \"uid\": \"73ddd502-4826-4b91-a0b6-60af3364085a\"}, {\"name\": \"precision\", \"x\": [1, 2, 3, 4, 5, 6, 7, 8, 9, 10, 11, 12, 13, 14, 15, 16, 17, 18, 19, 20, 21, 22], \"y\": [0.6180014174344437, 0.6180014174344437, 0.8040201005025126, 0.6579111944965603, 0.6579111944965603, 0.6579111944965603, 0.6586447118429386, 0.6572681704260651, 0.8186274509803921, 0.6586447118429386, 0.8186274509803921, 0.7835897435897435, 0.7835897435897435, 0.6586447118429386, 0.6579111944965603, 0.6579111944965603, 0.6579111944965603, 0.6579111944965603, 0.6579111944965603, 0.6579111944965603, 0.6579111944965603, 0.6579111944965603], \"type\": \"scatter\", \"uid\": \"7bbe8fa5-7c81-4725-8e6f-fed614c2ecc9\"}], {\"yaxis\": {\"autorange\": true, \"rangemode\": \"tozero\"}}, {\"showLink\": true, \"linkText\": \"Export to plot.ly\"})});</script><script type=\"text/javascript\">window.addEventListener(\"resize\", function(){window._Plotly.Plots.resize(document.getElementById(\"fff7d0c4-d675-4aed-ac2e-119b0c1428d2\"));});</script>"
      ],
      "text/vnd.plotly.v1+html": [
       "<div id=\"fff7d0c4-d675-4aed-ac2e-119b0c1428d2\" style=\"height: 525px; width: 100%;\" class=\"plotly-graph-div\"></div><script type=\"text/javascript\">require([\"plotly\"], function(Plotly) { window.PLOTLYENV=window.PLOTLYENV || {};window.PLOTLYENV.BASE_URL=\"https://plot.ly\";Plotly.newPlot(\"fff7d0c4-d675-4aed-ac2e-119b0c1428d2\", [{\"name\": \"accuracy\", \"x\": [1, 2, 3, 4, 5, 6, 7, 8, 9, 10, 11, 12, 13, 14, 15, 16, 17, 18, 19, 20, 21, 22], \"y\": [0.6459871984244214, 0.6459871984244214, 0.7203348104382078, 0.7306745445593303, 0.7306745445593303, 0.7306745445593303, 0.7287050713934022, 0.7291974396848843, 0.7380600689315608, 0.7287050713934022, 0.7380600689315608, 0.7543082225504677, 0.7543082225504677, 0.7287050713934022, 0.7306745445593303, 0.7306745445593303, 0.7306745445593303, 0.7306745445593303, 0.7306745445593303, 0.7306745445593303, 0.7306745445593303, 0.7306745445593303], \"type\": \"scatter\", \"uid\": \"be26c46d-cfe7-4427-bc9d-b83346cea67a\"}, {\"name\": \"recall\", \"x\": [1, 2, 3, 4, 5, 6, 7, 8, 9, 10, 11, 12, 13, 14, 15, 16, 17, 18, 19, 20, 21, 22], \"y\": [0.8288973384030418, 0.8288973384030418, 0.6083650190114068, 1.0, 1.0, 1.0, 0.9885931558935361, 0.997148288973384, 0.6349809885931559, 0.9885931558935361, 0.6349809885931559, 0.7262357414448669, 0.7262357414448669, 0.9885931558935361, 1.0, 1.0, 1.0, 1.0, 1.0, 1.0, 1.0, 1.0], \"type\": \"scatter\", \"uid\": \"73ddd502-4826-4b91-a0b6-60af3364085a\"}, {\"name\": \"precision\", \"x\": [1, 2, 3, 4, 5, 6, 7, 8, 9, 10, 11, 12, 13, 14, 15, 16, 17, 18, 19, 20, 21, 22], \"y\": [0.6180014174344437, 0.6180014174344437, 0.8040201005025126, 0.6579111944965603, 0.6579111944965603, 0.6579111944965603, 0.6586447118429386, 0.6572681704260651, 0.8186274509803921, 0.6586447118429386, 0.8186274509803921, 0.7835897435897435, 0.7835897435897435, 0.6586447118429386, 0.6579111944965603, 0.6579111944965603, 0.6579111944965603, 0.6579111944965603, 0.6579111944965603, 0.6579111944965603, 0.6579111944965603, 0.6579111944965603], \"type\": \"scatter\", \"uid\": \"7bbe8fa5-7c81-4725-8e6f-fed614c2ecc9\"}], {\"yaxis\": {\"autorange\": true, \"rangemode\": \"tozero\"}}, {\"showLink\": true, \"linkText\": \"Export to plot.ly\"})});</script><script type=\"text/javascript\">window.addEventListener(\"resize\", function(){window._Plotly.Plots.resize(document.getElementById(\"fff7d0c4-d675-4aed-ac2e-119b0c1428d2\"));});</script>"
      ]
     },
     "metadata": {},
     "output_type": "display_data"
    }
   ],
   "source": [
    "from sklearn.cluster import AgglomerativeClustering\n",
    "clf_agl = AgglomerativeClustering(n_clusters=2)\n",
    "iplot(test_different_features(22, clf_agl, X, y, \n",
    "                                 scale=True, clustering=True, flip_labels=True), \n",
    "         filename='Agglomerative clustering metrics')"
   ]
  }
 ],
 "metadata": {
  "kernelspec": {
   "display_name": "Python 3",
   "language": "python",
   "name": "python3"
  },
  "language_info": {
   "codemirror_mode": {
    "name": "ipython",
    "version": 3
   },
   "file_extension": ".py",
   "mimetype": "text/x-python",
   "name": "python",
   "nbconvert_exporter": "python",
   "pygments_lexer": "ipython3",
   "version": "3.7.1rc1"
  }
 },
 "nbformat": 4,
 "nbformat_minor": 1
}
